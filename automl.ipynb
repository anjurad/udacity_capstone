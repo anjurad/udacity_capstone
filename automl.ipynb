{
 "cells": [
  {
   "cell_type": "markdown",
   "metadata": {},
   "source": [
    "*Run script to set up environment pip install packages*"
   ]
  },
  {
   "cell_type": "code",
   "execution_count": null,
   "metadata": {
    "tags": []
   },
   "outputs": [],
   "source": [
    "# !pip install --upgrade azureml-sdk azureml-widgets"
   ]
  },
  {
   "cell_type": "markdown",
   "metadata": {},
   "source": [
    "# Automated ML\n",
    "\n",
    "TODO: Import Dependencies. In the cell below, import all the dependencies that you will need to complete the project."
   ]
  },
  {
   "cell_type": "code",
   "execution_count": 1,
   "metadata": {
    "gather": {
     "logged": 1598423888013
    },
    "jupyter": {
     "outputs_hidden": false,
     "source_hidden": false
    },
    "nteract": {
     "transient": {
      "deleting": false
     }
    }
   },
   "outputs": [],
   "source": [
    "import azureml.core\n",
    "from azureml.core.experiment import Experiment\n",
    "from azureml.core.workspace import Workspace\n",
    "from azureml.train.automl import AutoMLConfig\n",
    "from azureml.core.dataset import Dataset\n",
    "\n",
    "from azureml.pipeline.steps import AutoMLStep"
   ]
  },
  {
   "cell_type": "markdown",
   "metadata": {},
   "source": [
    "## Initialise the workspace\n",
    "have to initialise first in order to get and upload the data if not already created"
   ]
  },
  {
   "cell_type": "code",
   "execution_count": 2,
   "metadata": {},
   "outputs": [],
   "source": [
    "ws = Workspace.from_config()"
   ]
  },
  {
   "cell_type": "markdown",
   "metadata": {},
   "source": [
    "## Dataset"
   ]
  },
  {
   "cell_type": "code",
   "execution_count": 3,
   "metadata": {},
   "outputs": [
    {
     "name": "stdout",
     "output_type": "stream",
     "text": [
      "dataset found\n"
     ]
    }
   ],
   "source": [
    "# Try to load the dataset from the Workspace. Otherwise, create it from the file\n",
    "# NOTE: update the key to match the dataset name\n",
    "found = False\n",
    "\n",
    "\n",
    "key = \"job-leaver-aug-small\"\n",
    "local_path = './data_blob_upload/job_leaver_aug_small.csv'\n",
    "target_path = \"job-leaver-aug-small-automl-data\"\n",
    "\n",
    "description_text = \"This is an extract from the original Kaggle source: https://www.kaggle.com/arashnic/hr-analytics-job-change-of-data-scientists.\"\n",
    "\n",
    "if key in ws.datasets.keys(): \n",
    "        found = True\n",
    "        dataset = ws.datasets[key] \n",
    "        print(\"dataset found\")\n",
    "\n",
    "if not found:\n",
    "        # I have changed the import method because uploading the csv conventionally created some issues\n",
    "        # Importing into pandas dataframe and then uploading the dataset stopped the previous import issues\n",
    "        \n",
    "        # upload to pandas dataframe\n",
    "        df = pd.read_csv(local_path)\n",
    "        \n",
    "        # get the datastore to upload prepared data\n",
    "        datastore = ws.get_default_datastore()\n",
    "\n",
    "        # upload the local file from src_dir to the target_path in datastore\n",
    "        dataset = Dataset.Tabular.register_pandas_dataframe(name=key, dataframe=df, target=(datastore, target_path), show_progress=True)\n",
    "\n",
    "        # create a dataset referencing the cloud location\n",
    "        dataset = Dataset.Tabular.from_delimited_files(path = [(datastore, (target_path))], encoding='utf8', header=True)\n",
    "\n",
    "        dataset = dataset.register(\n",
    "                workspace=ws,\n",
    "                name=key,\n",
    "                description=description_text)\n",
    "        print(\"dataset uploaded and registered\")"
   ]
  },
  {
   "cell_type": "markdown",
   "metadata": {},
   "source": [
    "## Experiment\n",
    "set up the experiment"
   ]
  },
  {
   "cell_type": "code",
   "execution_count": 4,
   "metadata": {
    "gather": {
     "logged": 1598423890461
    },
    "jupyter": {
     "outputs_hidden": false,
     "source_hidden": false
    },
    "nteract": {
     "transient": {
      "deleting": false
     }
    }
   },
   "outputs": [],
   "source": [
    "experiment_name = 'data-science-job-leavers-small-automl'\n",
    "project_folder = './project_automl'\n",
    "\n",
    "experiment=Experiment(ws, experiment_name)"
   ]
  },
  {
   "cell_type": "code",
   "execution_count": 5,
   "metadata": {},
   "outputs": [
    {
     "name": "stdout",
     "output_type": "stream",
     "text": [
      "Found existing cluster, use it.\n"
     ]
    }
   ],
   "source": [
    "from azureml.core.compute import AmlCompute\n",
    "from azureml.core.compute import ComputeTarget\n",
    "from azureml.core.compute_target import ComputeTargetException\n",
    "\n",
    "amlcompute_cluster_name = \"standard-ds12-v2\"\n",
    "\n",
    "# Verify that cluster does not exist already\n",
    "try:\n",
    "    compute_target = ComputeTarget(workspace=ws, name=amlcompute_cluster_name)\n",
    "    print('Found existing cluster, use it.')\n",
    "except ComputeTargetException:\n",
    "    compute_config = AmlCompute.provisioning_configuration(vm_size='STANDARD_DS12_V2',\n",
    "                                                           vm_priority = 'lowpriority',\n",
    "                                                           min_nodes=0,\n",
    "                                                           max_nodes=5)\n",
    "    compute_target = ComputeTarget.create(ws, amlcompute_cluster_name, compute_config)\n",
    "\n",
    "    compute_target.wait_for_completion(show_output=True, min_node_count = 1, timeout_in_minutes = 10)"
   ]
  },
  {
   "cell_type": "markdown",
   "metadata": {},
   "source": [
    "## AutoML Configuration\n",
    "\n",
    "TODO: Explain why you chose the automl settings and cofiguration you used below."
   ]
  },
  {
   "cell_type": "code",
   "execution_count": 7,
   "metadata": {
    "gather": {
     "logged": 1598429217746
    },
    "jupyter": {
     "outputs_hidden": false,
     "source_hidden": false
    },
    "nteract": {
     "transient": {
      "deleting": false
     }
    }
   },
   "outputs": [],
   "source": [
    "automl_settings = {\n",
    "    \"experiment_timeout_minutes\": 15,\n",
    "    \"max_concurrent_iterations\": 5,\n",
    "    \"primary_metric\" : 'AUC_weighted'\n",
    "}\n",
    "\n",
    "automl_config = AutoMLConfig(compute_target=compute_target,\n",
    "                             task = \"classification\",\n",
    "                             training_data=dataset,\n",
    "                             label_column_name=\"target\",   \n",
    "                             path = project_folder,\n",
    "                             enable_early_stopping= True,\n",
    "                             featurization= 'auto',\n",
    "                             debug_log = \"automl_errors.log\",\n",
    "                             **automl_settings\n",
    "                            )"
   ]
  },
  {
   "cell_type": "code",
   "execution_count": 8,
   "metadata": {
    "gather": {
     "logged": 1598431107951
    },
    "jupyter": {
     "outputs_hidden": false,
     "source_hidden": false
    },
    "nteract": {
     "transient": {
      "deleting": false
     }
    }
   },
   "outputs": [
    {
     "name": "stdout",
     "output_type": "stream",
     "text": [
      "Running on remote.\n"
     ]
    }
   ],
   "source": [
    "# TODO: Submit your experiment\n",
    "remote_run = experiment.submit(automl_config)"
   ]
  },
  {
   "cell_type": "markdown",
   "metadata": {},
   "source": [
    "## Run Details\n",
    "\n",
    "OPTIONAL: Write about the different models trained and their performance. Why do you think some models did better than others?\n",
    "\n",
    "TODO: In the cell below, use the `RunDetails` widget to show the different experiments."
   ]
  },
  {
   "cell_type": "code",
   "execution_count": 9,
   "metadata": {
    "gather": {
     "logged": 1598431121770
    },
    "jupyter": {
     "outputs_hidden": false,
     "source_hidden": false
    },
    "nteract": {
     "transient": {
      "deleting": false
     }
    }
   },
   "outputs": [
    {
     "data": {
      "application/vnd.jupyter.widget-view+json": {
       "model_id": "dc4cd80ef1414b379125cdb39162e801",
       "version_major": 2,
       "version_minor": 0
      },
      "text/plain": [
       "_AutoMLWidget(widget_settings={'childWidgetDisplay': 'popup', 'send_telemetry': False, 'log_level': 'INFO', 's…"
      ]
     },
     "metadata": {},
     "output_type": "display_data"
    },
    {
     "data": {
      "application/aml.mini.widget.v1": "{\"status\": \"Completed\", \"workbench_run_details_uri\": \"https://ml.azure.com/experiments/data-science-job-leavers-small-automl/runs/AutoML_0d1cb3c5-44c5-4bee-81a5-a3646969425a?wsid=/subscriptions/ea9f71e6-aef9-4b3a-837d-f651463b4205/resourcegroups/WS2020120214_rg/workspaces/WS2020120214\", \"run_id\": \"AutoML_0d1cb3c5-44c5-4bee-81a5-a3646969425a\", \"run_properties\": {\"run_id\": \"AutoML_0d1cb3c5-44c5-4bee-81a5-a3646969425a\", \"created_utc\": \"2021-01-02T18:09:15.988605Z\", \"properties\": {\"num_iterations\": \"1000\", \"training_type\": \"TrainFull\", \"acquisition_function\": \"EI\", \"primary_metric\": \"AUC_weighted\", \"train_split\": \"0\", \"acquisition_parameter\": \"0\", \"num_cross_validation\": null, \"target\": \"standard-ds12-v2\", \"AMLSettingsJsonString\": \"{\\\"path\\\":null,\\\"name\\\":\\\"data-science-job-leavers-small-automl\\\",\\\"subscription_id\\\":\\\"ea9f71e6-aef9-4b3a-837d-f651463b4205\\\",\\\"resource_group\\\":\\\"WS2020120214_rg\\\",\\\"workspace_name\\\":\\\"WS2020120214\\\",\\\"region\\\":\\\"uksouth\\\",\\\"compute_target\\\":\\\"standard-ds12-v2\\\",\\\"spark_service\\\":null,\\\"azure_service\\\":\\\"remote\\\",\\\"many_models\\\":false,\\\"pipeline_fetch_max_batch_size\\\":1,\\\"iterations\\\":1000,\\\"primary_metric\\\":\\\"AUC_weighted\\\",\\\"task_type\\\":\\\"classification\\\",\\\"data_script\\\":null,\\\"validation_size\\\":0.0,\\\"n_cross_validations\\\":null,\\\"y_min\\\":null,\\\"y_max\\\":null,\\\"num_classes\\\":null,\\\"featurization\\\":\\\"auto\\\",\\\"_ignore_package_version_incompatibilities\\\":false,\\\"is_timeseries\\\":false,\\\"max_cores_per_iteration\\\":1,\\\"max_concurrent_iterations\\\":5,\\\"iteration_timeout_minutes\\\":null,\\\"mem_in_mb\\\":null,\\\"enforce_time_on_windows\\\":false,\\\"experiment_timeout_minutes\\\":15,\\\"experiment_exit_score\\\":null,\\\"whitelist_models\\\":null,\\\"blacklist_algos\\\":[\\\"TensorFlowLinearClassifier\\\",\\\"TensorFlowDNN\\\"],\\\"supported_models\\\":[\\\"LightGBM\\\",\\\"GradientBoosting\\\",\\\"TensorFlowLinearClassifier\\\",\\\"RandomForest\\\",\\\"KNN\\\",\\\"SGD\\\",\\\"LinearSVM\\\",\\\"ExtremeRandomTrees\\\",\\\"SVM\\\",\\\"TensorFlowDNN\\\",\\\"LogisticRegression\\\",\\\"BernoulliNaiveBayes\\\",\\\"MultinomialNaiveBayes\\\",\\\"AveragedPerceptronClassifier\\\",\\\"XGBoostClassifier\\\",\\\"DecisionTree\\\"],\\\"auto_blacklist\\\":true,\\\"blacklist_samples_reached\\\":false,\\\"exclude_nan_labels\\\":true,\\\"verbosity\\\":20,\\\"_debug_log\\\":\\\"azureml_automl.log\\\",\\\"show_warnings\\\":false,\\\"model_explainability\\\":true,\\\"service_url\\\":null,\\\"sdk_url\\\":null,\\\"sdk_packages\\\":null,\\\"enable_onnx_compatible_models\\\":false,\\\"enable_split_onnx_featurizer_estimator_models\\\":false,\\\"vm_type\\\":\\\"STANDARD_DS12_V2\\\",\\\"telemetry_verbosity\\\":20,\\\"send_telemetry\\\":true,\\\"enable_dnn\\\":false,\\\"scenario\\\":\\\"SDK-1.13.0\\\",\\\"environment_label\\\":null,\\\"force_text_dnn\\\":false,\\\"enable_feature_sweeping\\\":true,\\\"enable_early_stopping\\\":true,\\\"early_stopping_n_iters\\\":10,\\\"metrics\\\":null,\\\"enable_ensembling\\\":true,\\\"enable_stack_ensembling\\\":true,\\\"ensemble_iterations\\\":15,\\\"enable_tf\\\":false,\\\"enable_subsampling\\\":null,\\\"subsample_seed\\\":null,\\\"enable_nimbusml\\\":false,\\\"enable_streaming\\\":false,\\\"force_streaming\\\":false,\\\"track_child_runs\\\":true,\\\"allowed_private_models\\\":[],\\\"label_column_name\\\":\\\"target\\\",\\\"weight_column_name\\\":null,\\\"cv_split_column_names\\\":null,\\\"enable_local_managed\\\":false,\\\"_local_managed_run_id\\\":null,\\\"cost_mode\\\":1,\\\"lag_length\\\":0,\\\"metric_operation\\\":\\\"maximize\\\",\\\"preprocess\\\":true}\", \"DataPrepJsonString\": \"{\\\\\\\"training_data\\\\\\\": \\\\\\\"{\\\\\\\\\\\\\\\"blocks\\\\\\\\\\\\\\\": [{\\\\\\\\\\\\\\\"id\\\\\\\\\\\\\\\": \\\\\\\\\\\\\\\"a8f7056c-0b5a-4cd0-9fbc-1d28d516a046\\\\\\\\\\\\\\\", \\\\\\\\\\\\\\\"type\\\\\\\\\\\\\\\": \\\\\\\\\\\\\\\"Microsoft.DPrep.GetDatastoreFilesBlock\\\\\\\\\\\\\\\", \\\\\\\\\\\\\\\"arguments\\\\\\\\\\\\\\\": {\\\\\\\\\\\\\\\"datastores\\\\\\\\\\\\\\\": [{\\\\\\\\\\\\\\\"datastoreName\\\\\\\\\\\\\\\": \\\\\\\\\\\\\\\"workspaceblobstore\\\\\\\\\\\\\\\", \\\\\\\\\\\\\\\"path\\\\\\\\\\\\\\\": \\\\\\\\\\\\\\\"UI/01-02-2021_060343_UTC/job_leaver_aug_small.csv\\\\\\\\\\\\\\\", \\\\\\\\\\\\\\\"resourceGroup\\\\\\\\\\\\\\\": \\\\\\\\\\\\\\\"WS2020120214_rg\\\\\\\\\\\\\\\", \\\\\\\\\\\\\\\"subscription\\\\\\\\\\\\\\\": \\\\\\\\\\\\\\\"ea9f71e6-aef9-4b3a-837d-f651463b4205\\\\\\\\\\\\\\\", \\\\\\\\\\\\\\\"workspaceName\\\\\\\\\\\\\\\": \\\\\\\\\\\\\\\"WS2020120214\\\\\\\\\\\\\\\"}]}, \\\\\\\\\\\\\\\"localData\\\\\\\\\\\\\\\": {}, \\\\\\\\\\\\\\\"isEnabled\\\\\\\\\\\\\\\": true, \\\\\\\\\\\\\\\"name\\\\\\\\\\\\\\\": null, \\\\\\\\\\\\\\\"annotation\\\\\\\\\\\\\\\": null}, {\\\\\\\\\\\\\\\"id\\\\\\\\\\\\\\\": \\\\\\\\\\\\\\\"9f2c8170-0a47-4641-8218-0205cbcacd50\\\\\\\\\\\\\\\", \\\\\\\\\\\\\\\"type\\\\\\\\\\\\\\\": \\\\\\\\\\\\\\\"Microsoft.DPrep.ParseDelimitedBlock\\\\\\\\\\\\\\\", \\\\\\\\\\\\\\\"arguments\\\\\\\\\\\\\\\": {\\\\\\\\\\\\\\\"columnHeadersMode\\\\\\\\\\\\\\\": 1, \\\\\\\\\\\\\\\"fileEncoding\\\\\\\\\\\\\\\": 0, \\\\\\\\\\\\\\\"handleQuotedLineBreaks\\\\\\\\\\\\\\\": false, \\\\\\\\\\\\\\\"preview\\\\\\\\\\\\\\\": false, \\\\\\\\\\\\\\\"separator\\\\\\\\\\\\\\\": \\\\\\\\\\\\\\\",\\\\\\\\\\\\\\\", \\\\\\\\\\\\\\\"skipRows\\\\\\\\\\\\\\\": 0, \\\\\\\\\\\\\\\"skipRowsMode\\\\\\\\\\\\\\\": 0}, \\\\\\\\\\\\\\\"localData\\\\\\\\\\\\\\\": {}, \\\\\\\\\\\\\\\"isEnabled\\\\\\\\\\\\\\\": true, \\\\\\\\\\\\\\\"name\\\\\\\\\\\\\\\": null, \\\\\\\\\\\\\\\"annotation\\\\\\\\\\\\\\\": null}, {\\\\\\\\\\\\\\\"id\\\\\\\\\\\\\\\": \\\\\\\\\\\\\\\"fe317562-3b5a-4a25-838c-80c04f9df369\\\\\\\\\\\\\\\", \\\\\\\\\\\\\\\"type\\\\\\\\\\\\\\\": \\\\\\\\\\\\\\\"Microsoft.DPrep.DropColumnsBlock\\\\\\\\\\\\\\\", \\\\\\\\\\\\\\\"arguments\\\\\\\\\\\\\\\": {\\\\\\\\\\\\\\\"columns\\\\\\\\\\\\\\\": {\\\\\\\\\\\\\\\"type\\\\\\\\\\\\\\\": 0, \\\\\\\\\\\\\\\"details\\\\\\\\\\\\\\\": {\\\\\\\\\\\\\\\"selectedColumns\\\\\\\\\\\\\\\": [\\\\\\\\\\\\\\\"Path\\\\\\\\\\\\\\\"]}}}, \\\\\\\\\\\\\\\"localData\\\\\\\\\\\\\\\": {}, \\\\\\\\\\\\\\\"isEnabled\\\\\\\\\\\\\\\": true, \\\\\\\\\\\\\\\"name\\\\\\\\\\\\\\\": null, \\\\\\\\\\\\\\\"annotation\\\\\\\\\\\\\\\": null}, {\\\\\\\\\\\\\\\"id\\\\\\\\\\\\\\\": \\\\\\\\\\\\\\\"db95040b-39dd-421c-9df8-c2564b23d1ee\\\\\\\\\\\\\\\", \\\\\\\\\\\\\\\"type\\\\\\\\\\\\\\\": \\\\\\\\\\\\\\\"Microsoft.DPrep.SetColumnTypesBlock\\\\\\\\\\\\\\\", \\\\\\\\\\\\\\\"arguments\\\\\\\\\\\\\\\": {\\\\\\\\\\\\\\\"columnConversion\\\\\\\\\\\\\\\": [{\\\\\\\\\\\\\\\"column\\\\\\\\\\\\\\\": {\\\\\\\\\\\\\\\"type\\\\\\\\\\\\\\\": 2, \\\\\\\\\\\\\\\"details\\\\\\\\\\\\\\\": {\\\\\\\\\\\\\\\"selectedColumn\\\\\\\\\\\\\\\": \\\\\\\\\\\\\\\"Path\\\\\\\\\\\\\\\"}}, \\\\\\\\\\\\\\\"typeProperty\\\\\\\\\\\\\\\": 0}, {\\\\\\\\\\\\\\\"column\\\\\\\\\\\\\\\": {\\\\\\\\\\\\\\\"type\\\\\\\\\\\\\\\": 2, \\\\\\\\\\\\\\\"details\\\\\\\\\\\\\\\": {\\\\\\\\\\\\\\\"selectedColumn\\\\\\\\\\\\\\\": \\\\\\\\\\\\\\\"enrollee_id\\\\\\\\\\\\\\\"}}, \\\\\\\\\\\\\\\"typeProperty\\\\\\\\\\\\\\\": 2}, {\\\\\\\\\\\\\\\"column\\\\\\\\\\\\\\\": {\\\\\\\\\\\\\\\"type\\\\\\\\\\\\\\\": 2, \\\\\\\\\\\\\\\"details\\\\\\\\\\\\\\\": {\\\\\\\\\\\\\\\"selectedColumn\\\\\\\\\\\\\\\": \\\\\\\\\\\\\\\"city\\\\\\\\\\\\\\\"}}, \\\\\\\\\\\\\\\"typeProperty\\\\\\\\\\\\\\\": 0}, {\\\\\\\\\\\\\\\"column\\\\\\\\\\\\\\\": {\\\\\\\\\\\\\\\"type\\\\\\\\\\\\\\\": 2, \\\\\\\\\\\\\\\"details\\\\\\\\\\\\\\\": {\\\\\\\\\\\\\\\"selectedColumn\\\\\\\\\\\\\\\": \\\\\\\\\\\\\\\"city_development_index\\\\\\\\\\\\\\\"}}, \\\\\\\\\\\\\\\"typeProperty\\\\\\\\\\\\\\\": 3}, {\\\\\\\\\\\\\\\"column\\\\\\\\\\\\\\\": {\\\\\\\\\\\\\\\"type\\\\\\\\\\\\\\\": 2, \\\\\\\\\\\\\\\"details\\\\\\\\\\\\\\\": {\\\\\\\\\\\\\\\"selectedColumn\\\\\\\\\\\\\\\": \\\\\\\\\\\\\\\"gender\\\\\\\\\\\\\\\"}}, \\\\\\\\\\\\\\\"typeProperty\\\\\\\\\\\\\\\": 0}, {\\\\\\\\\\\\\\\"column\\\\\\\\\\\\\\\": {\\\\\\\\\\\\\\\"type\\\\\\\\\\\\\\\": 2, \\\\\\\\\\\\\\\"details\\\\\\\\\\\\\\\": {\\\\\\\\\\\\\\\"selectedColumn\\\\\\\\\\\\\\\": \\\\\\\\\\\\\\\"relevent_experience\\\\\\\\\\\\\\\"}}, \\\\\\\\\\\\\\\"typeProperty\\\\\\\\\\\\\\\": 0}, {\\\\\\\\\\\\\\\"column\\\\\\\\\\\\\\\": {\\\\\\\\\\\\\\\"type\\\\\\\\\\\\\\\": 2, \\\\\\\\\\\\\\\"details\\\\\\\\\\\\\\\": {\\\\\\\\\\\\\\\"selectedColumn\\\\\\\\\\\\\\\": \\\\\\\\\\\\\\\"enrolled_university\\\\\\\\\\\\\\\"}}, \\\\\\\\\\\\\\\"typeProperty\\\\\\\\\\\\\\\": 0}, {\\\\\\\\\\\\\\\"column\\\\\\\\\\\\\\\": {\\\\\\\\\\\\\\\"type\\\\\\\\\\\\\\\": 2, \\\\\\\\\\\\\\\"details\\\\\\\\\\\\\\\": {\\\\\\\\\\\\\\\"selectedColumn\\\\\\\\\\\\\\\": \\\\\\\\\\\\\\\"education_level\\\\\\\\\\\\\\\"}}, \\\\\\\\\\\\\\\"typeProperty\\\\\\\\\\\\\\\": 0}, {\\\\\\\\\\\\\\\"column\\\\\\\\\\\\\\\": {\\\\\\\\\\\\\\\"type\\\\\\\\\\\\\\\": 2, \\\\\\\\\\\\\\\"details\\\\\\\\\\\\\\\": {\\\\\\\\\\\\\\\"selectedColumn\\\\\\\\\\\\\\\": \\\\\\\\\\\\\\\"major_discipline\\\\\\\\\\\\\\\"}}, \\\\\\\\\\\\\\\"typeProperty\\\\\\\\\\\\\\\": 0}, {\\\\\\\\\\\\\\\"column\\\\\\\\\\\\\\\": {\\\\\\\\\\\\\\\"type\\\\\\\\\\\\\\\": 2, \\\\\\\\\\\\\\\"details\\\\\\\\\\\\\\\": {\\\\\\\\\\\\\\\"selectedColumn\\\\\\\\\\\\\\\": \\\\\\\\\\\\\\\"experience\\\\\\\\\\\\\\\"}}, \\\\\\\\\\\\\\\"typeProperty\\\\\\\\\\\\\\\": 0}, {\\\\\\\\\\\\\\\"column\\\\\\\\\\\\\\\": {\\\\\\\\\\\\\\\"type\\\\\\\\\\\\\\\": 2, \\\\\\\\\\\\\\\"details\\\\\\\\\\\\\\\": {\\\\\\\\\\\\\\\"selectedColumn\\\\\\\\\\\\\\\": \\\\\\\\\\\\\\\"company_size\\\\\\\\\\\\\\\"}}, \\\\\\\\\\\\\\\"typeProperty\\\\\\\\\\\\\\\": 0}, {\\\\\\\\\\\\\\\"column\\\\\\\\\\\\\\\": {\\\\\\\\\\\\\\\"type\\\\\\\\\\\\\\\": 2, \\\\\\\\\\\\\\\"details\\\\\\\\\\\\\\\": {\\\\\\\\\\\\\\\"selectedColumn\\\\\\\\\\\\\\\": \\\\\\\\\\\\\\\"company_type\\\\\\\\\\\\\\\"}}, \\\\\\\\\\\\\\\"typeProperty\\\\\\\\\\\\\\\": 0}, {\\\\\\\\\\\\\\\"column\\\\\\\\\\\\\\\": {\\\\\\\\\\\\\\\"type\\\\\\\\\\\\\\\": 2, \\\\\\\\\\\\\\\"details\\\\\\\\\\\\\\\": {\\\\\\\\\\\\\\\"selectedColumn\\\\\\\\\\\\\\\": \\\\\\\\\\\\\\\"last_new_job\\\\\\\\\\\\\\\"}}, \\\\\\\\\\\\\\\"typeProperty\\\\\\\\\\\\\\\": 0}, {\\\\\\\\\\\\\\\"column\\\\\\\\\\\\\\\": {\\\\\\\\\\\\\\\"type\\\\\\\\\\\\\\\": 2, \\\\\\\\\\\\\\\"details\\\\\\\\\\\\\\\": {\\\\\\\\\\\\\\\"selectedColumn\\\\\\\\\\\\\\\": \\\\\\\\\\\\\\\"training_hours\\\\\\\\\\\\\\\"}}, \\\\\\\\\\\\\\\"typeProperty\\\\\\\\\\\\\\\": 2}, {\\\\\\\\\\\\\\\"column\\\\\\\\\\\\\\\": {\\\\\\\\\\\\\\\"type\\\\\\\\\\\\\\\": 2, \\\\\\\\\\\\\\\"details\\\\\\\\\\\\\\\": {\\\\\\\\\\\\\\\"selectedColumn\\\\\\\\\\\\\\\": \\\\\\\\\\\\\\\"target\\\\\\\\\\\\\\\"}}, \\\\\\\\\\\\\\\"typeProperty\\\\\\\\\\\\\\\": 3}]}, \\\\\\\\\\\\\\\"localData\\\\\\\\\\\\\\\": {}, \\\\\\\\\\\\\\\"isEnabled\\\\\\\\\\\\\\\": true, \\\\\\\\\\\\\\\"name\\\\\\\\\\\\\\\": null, \\\\\\\\\\\\\\\"annotation\\\\\\\\\\\\\\\": null}], \\\\\\\\\\\\\\\"inspectors\\\\\\\\\\\\\\\": [], \\\\\\\\\\\\\\\"meta\\\\\\\\\\\\\\\": {\\\\\\\\\\\\\\\"savedDatasetId\\\\\\\\\\\\\\\": \\\\\\\\\\\\\\\"af7fde8c-4610-48e3-908f-1a99bd6b3789\\\\\\\\\\\\\\\", \\\\\\\\\\\\\\\"datasetType\\\\\\\\\\\\\\\": \\\\\\\\\\\\\\\"tabular\\\\\\\\\\\\\\\", \\\\\\\\\\\\\\\"subscriptionId\\\\\\\\\\\\\\\": \\\\\\\\\\\\\\\"ea9f71e6-aef9-4b3a-837d-f651463b4205\\\\\\\\\\\\\\\", \\\\\\\\\\\\\\\"workspaceId\\\\\\\\\\\\\\\": \\\\\\\\\\\\\\\"39cc36c8-9b05-4eed-afd3-f661e8e4c4f3\\\\\\\\\\\\\\\", \\\\\\\\\\\\\\\"workspaceLocation\\\\\\\\\\\\\\\": \\\\\\\\\\\\\\\"uksouth\\\\\\\\\\\\\\\"}}\\\\\\\", \\\\\\\"activities\\\\\\\": 0}\", \"EnableSubsampling\": null, \"runTemplate\": \"AutoML\", \"azureml.runsource\": \"automl\", \"display_task_type\": \"classification\", \"dependencies_versions\": \"{\\\"azureml-widgets\\\": \\\"1.19.0\\\", \\\"azureml-train\\\": \\\"1.19.0\\\", \\\"azureml-train-restclients-hyperdrive\\\": \\\"1.19.0\\\", \\\"azureml-train-core\\\": \\\"1.19.0\\\", \\\"azureml-train-automl-client\\\": \\\"1.19.0\\\", \\\"azureml-telemetry\\\": \\\"1.19.0\\\", \\\"azureml-sdk\\\": \\\"1.19.0\\\", \\\"azureml-pipeline\\\": \\\"1.19.0\\\", \\\"azureml-pipeline-steps\\\": \\\"1.19.0\\\", \\\"azureml-pipeline-core\\\": \\\"1.19.0\\\", \\\"azureml-dataset-runtime\\\": \\\"1.19.0\\\", \\\"azureml-dataprep\\\": \\\"2.6.3\\\", \\\"azureml-dataprep-rslex\\\": \\\"1.4.0\\\", \\\"azureml-dataprep-native\\\": \\\"26.0.0\\\", \\\"azureml-core\\\": \\\"1.19.0\\\", \\\"azureml-automl-core\\\": \\\"1.19.0\\\"}\", \"_aml_system_scenario_identification\": \"Remote.Parent\", \"ClientType\": \"SDK\", \"environment_cpu_name\": \"AzureML-AutoML\", \"environment_cpu_label\": \"prod\", \"environment_gpu_name\": \"AzureML-AutoML-GPU\", \"environment_gpu_label\": \"prod\", \"root_attribution\": \"automl\", \"attribution\": \"AutoML\", \"Orchestrator\": \"AutoML\", \"CancelUri\": \"https://uksouth.experiments.azureml.net/jasmine/v1.0/subscriptions/ea9f71e6-aef9-4b3a-837d-f651463b4205/resourceGroups/WS2020120214_rg/providers/Microsoft.MachineLearningServices/workspaces/WS2020120214/experimentids/1f4185d1-083a-4f69-9e91-b9a8cff780cc/cancel/AutoML_0d1cb3c5-44c5-4bee-81a5-a3646969425a\", \"ClientSdkVersion\": \"1.19.0\", \"snapshotId\": \"00000000-0000-0000-0000-000000000000\", \"SetupRunId\": \"AutoML_0d1cb3c5-44c5-4bee-81a5-a3646969425a_setup\", \"SetupRunContainerId\": \"dcid.AutoML_0d1cb3c5-44c5-4bee-81a5-a3646969425a_setup\", \"FeaturizationRunJsonPath\": \"featurizer_container.json\", \"FeaturizationRunId\": \"AutoML_0d1cb3c5-44c5-4bee-81a5-a3646969425a_featurize\", \"ProblemInfoJsonString\": \"{\\\"dataset_num_categorical\\\": 0, \\\"is_sparse\\\": true, \\\"subsampling\\\": false, \\\"dataset_classes\\\": 2, \\\"dataset_features\\\": 135, \\\"dataset_samples\\\": 1000, \\\"single_frequency_class_detected\\\": false}\", \"ModelExplainRunId\": \"AutoML_0d1cb3c5-44c5-4bee-81a5-a3646969425a_ModelExplain\"}, \"tags\": {\"model_explain_run\": \"best_run\", \"_aml_system_azureml.automlComponent\": \"AutoML\", \"pipeline_id\": \"\", \"score\": \"\", \"predicted_cost\": \"\", \"fit_time\": \"\", \"training_percent\": \"\", \"iteration\": \"\", \"run_preprocessor\": \"\", \"run_algorithm\": \"\", \"dynamic_whitelisting_iterations\": \"<25>;<30>;<35>;\", \"automl_best_child_run_id\": \"AutoML_0d1cb3c5-44c5-4bee-81a5-a3646969425a_38\", \"model_explain_best_run_child_id\": \"AutoML_0d1cb3c5-44c5-4bee-81a5-a3646969425a_38\"}, \"end_time_utc\": \"2021-01-02T18:26:48.394775Z\", \"status\": \"Completed\", \"log_files\": {}, \"log_groups\": [], \"run_duration\": \"0:17:32\"}, \"child_runs\": [{\"run_id\": \"AutoML_0d1cb3c5-44c5-4bee-81a5-a3646969425a_0\", \"run_number\": 5, \"metric\": null, \"status\": \"Completed\", \"run_type\": \"azureml.scriptrun\", \"training_percent\": \"100\", \"start_time\": \"2021-01-02T18:16:48.577786Z\", \"end_time\": \"2021-01-02T18:17:32.339151Z\", \"created_time\": \"2021-01-02T18:15:56.648087Z\", \"created_time_dt\": \"2021-01-02T18:15:56.648087Z\", \"duration\": \"0:01:35\", \"iteration\": \"0\", \"goal\": \"AUC_weighted_max\", \"run_name\": \"MaxAbsScaler, LightGBM\", \"run_properties\": \"copy=True\", \"primary_metric\": 0.74855842, \"best_metric\": 0.74855842}, {\"run_id\": \"AutoML_0d1cb3c5-44c5-4bee-81a5-a3646969425a_3\", \"run_number\": 6, \"metric\": null, \"status\": \"Completed\", \"run_type\": \"azureml.scriptrun\", \"training_percent\": \"100\", \"start_time\": \"2021-01-02T18:17:36.899044Z\", \"end_time\": \"2021-01-02T18:18:19.479762Z\", \"created_time\": \"2021-01-02T18:15:56.721816Z\", \"created_time_dt\": \"2021-01-02T18:15:56.721816Z\", \"duration\": \"0:02:22\", \"iteration\": \"3\", \"goal\": \"AUC_weighted_max\", \"run_name\": \"MaxAbsScaler, RandomForest\", \"run_properties\": \"copy=True\", \"primary_metric\": 0.75773596, \"best_metric\": 0.76912457}, {\"run_id\": \"AutoML_0d1cb3c5-44c5-4bee-81a5-a3646969425a_2\", \"run_number\": 7, \"metric\": null, \"status\": \"Completed\", \"run_type\": \"azureml.scriptrun\", \"training_percent\": \"100\", \"start_time\": \"2021-01-02T18:18:40.784203Z\", \"end_time\": \"2021-01-02T18:20:33.086822Z\", \"created_time\": \"2021-01-02T18:15:56.725897Z\", \"created_time_dt\": \"2021-01-02T18:15:56.725897Z\", \"duration\": \"0:04:36\", \"iteration\": \"2\", \"goal\": \"AUC_weighted_max\", \"run_name\": \"MaxAbsScaler, RandomForest\", \"run_properties\": \"copy=True\", \"primary_metric\": 0.76912457, \"best_metric\": 0.76912457}, {\"run_id\": \"AutoML_0d1cb3c5-44c5-4bee-81a5-a3646969425a_4\", \"run_number\": 8, \"metric\": null, \"status\": \"Completed\", \"run_type\": \"azureml.scriptrun\", \"training_percent\": \"100\", \"start_time\": \"2021-01-02T18:16:06.813363Z\", \"end_time\": \"2021-01-02T18:16:43.118021Z\", \"created_time\": \"2021-01-02T18:15:56.774789Z\", \"created_time_dt\": \"2021-01-02T18:15:56.774789Z\", \"duration\": \"0:00:46\", \"iteration\": \"4\", \"goal\": \"AUC_weighted_max\", \"run_name\": \"MaxAbsScaler, RandomForest\", \"run_properties\": \"copy=True\", \"primary_metric\": 0.75093704, \"best_metric\": 0.76912457}, {\"run_id\": \"AutoML_0d1cb3c5-44c5-4bee-81a5-a3646969425a_1\", \"run_number\": 9, \"metric\": null, \"status\": \"Completed\", \"run_type\": \"azureml.scriptrun\", \"training_percent\": \"100\", \"start_time\": \"2021-01-02T18:18:22.317902Z\", \"end_time\": \"2021-01-02T18:19:08.113633Z\", \"created_time\": \"2021-01-02T18:15:56.775565Z\", \"created_time_dt\": \"2021-01-02T18:15:56.775565Z\", \"duration\": \"0:03:11\", \"iteration\": \"1\", \"goal\": \"AUC_weighted_max\", \"run_name\": \"MaxAbsScaler, XGBoostClassifier\", \"run_properties\": \"copy=True\", \"primary_metric\": 0.76533306, \"best_metric\": 0.76533306}, {\"run_id\": \"AutoML_0d1cb3c5-44c5-4bee-81a5-a3646969425a_5\", \"run_number\": 10, \"metric\": null, \"status\": \"Completed\", \"run_type\": \"azureml.scriptrun\", \"training_percent\": \"100\", \"start_time\": \"2021-01-02T18:18:39.585205Z\", \"end_time\": \"2021-01-02T18:20:28.371074Z\", \"created_time\": \"2021-01-02T18:16:46.475199Z\", \"created_time_dt\": \"2021-01-02T18:16:46.475199Z\", \"duration\": \"0:03:41\", \"iteration\": \"5\", \"goal\": \"AUC_weighted_max\", \"run_name\": \"MaxAbsScaler, ExtremeRandomTrees\", \"run_properties\": \"copy=True\", \"primary_metric\": 0.77832991, \"best_metric\": 0.77832991}, {\"run_id\": \"AutoML_0d1cb3c5-44c5-4bee-81a5-a3646969425a_6\", \"run_number\": 11, \"metric\": null, \"status\": \"Completed\", \"run_type\": \"azureml.scriptrun\", \"training_percent\": \"100\", \"start_time\": \"2021-01-02T18:18:38.336349Z\", \"end_time\": \"2021-01-02T18:20:31.738996Z\", \"created_time\": \"2021-01-02T18:17:35.086341Z\", \"created_time_dt\": \"2021-01-02T18:17:35.086341Z\", \"duration\": \"0:02:56\", \"iteration\": \"6\", \"goal\": \"AUC_weighted_max\", \"run_name\": \"MaxAbsScaler, ExtremeRandomTrees\", \"run_properties\": \"copy=True\", \"primary_metric\": 0.77277512, \"best_metric\": 0.77832991}, {\"run_id\": \"AutoML_0d1cb3c5-44c5-4bee-81a5-a3646969425a_7\", \"run_number\": 12, \"metric\": null, \"status\": \"Completed\", \"run_type\": \"azureml.scriptrun\", \"training_percent\": \"100\", \"start_time\": \"2021-01-02T18:18:39.255557Z\", \"end_time\": \"2021-01-02T18:20:28.848901Z\", \"created_time\": \"2021-01-02T18:18:22.244745Z\", \"created_time_dt\": \"2021-01-02T18:18:22.244745Z\", \"duration\": \"0:02:06\", \"iteration\": \"7\", \"goal\": \"AUC_weighted_max\", \"run_name\": \"MaxAbsScaler, ExtremeRandomTrees\", \"run_properties\": \"copy=True\", \"primary_metric\": 0.77360224, \"best_metric\": 0.77832991}, {\"run_id\": \"AutoML_0d1cb3c5-44c5-4bee-81a5-a3646969425a_8\", \"run_number\": 13, \"metric\": null, \"status\": \"Completed\", \"run_type\": \"azureml.scriptrun\", \"training_percent\": \"100\", \"start_time\": \"2021-01-02T18:19:20.424014Z\", \"end_time\": \"2021-01-02T18:19:59.384313Z\", \"created_time\": \"2021-01-02T18:19:10.764115Z\", \"created_time_dt\": \"2021-01-02T18:19:10.764115Z\", \"duration\": \"0:00:48\", \"iteration\": \"8\", \"goal\": \"AUC_weighted_max\", \"run_name\": \"MaxAbsScaler, RandomForest\", \"run_properties\": \"copy=True\", \"primary_metric\": 0.76599522, \"best_metric\": 0.77832991}, {\"run_id\": \"AutoML_0d1cb3c5-44c5-4bee-81a5-a3646969425a_9\", \"run_number\": 14, \"metric\": null, \"status\": \"Completed\", \"run_type\": \"azureml.scriptrun\", \"training_percent\": \"100\", \"start_time\": \"2021-01-02T18:20:12.150116Z\", \"end_time\": \"2021-01-02T18:20:54.214662Z\", \"created_time\": \"2021-01-02T18:20:02.041231Z\", \"created_time_dt\": \"2021-01-02T18:20:02.041231Z\", \"duration\": \"0:00:52\", \"iteration\": \"9\", \"goal\": \"AUC_weighted_max\", \"run_name\": \"MaxAbsScaler, ExtremeRandomTrees\", \"run_properties\": \"copy=True\", \"primary_metric\": 0.76906981, \"best_metric\": 0.77832991}, {\"run_id\": \"AutoML_0d1cb3c5-44c5-4bee-81a5-a3646969425a_10\", \"run_number\": 15, \"metric\": null, \"status\": \"Completed\", \"run_type\": \"azureml.scriptrun\", \"training_percent\": \"100\", \"start_time\": \"2021-01-02T18:20:43.053915Z\", \"end_time\": \"2021-01-02T18:21:24.948357Z\", \"created_time\": \"2021-01-02T18:20:31.351247Z\", \"created_time_dt\": \"2021-01-02T18:20:31.351247Z\", \"duration\": \"0:00:53\", \"iteration\": \"10\", \"goal\": \"AUC_weighted_max\", \"run_name\": \"MaxAbsScaler, RandomForest\", \"run_properties\": \"copy=True\", \"primary_metric\": 0.74819942, \"best_metric\": 0.77832991}, {\"run_id\": \"AutoML_0d1cb3c5-44c5-4bee-81a5-a3646969425a_11\", \"run_number\": 16, \"metric\": null, \"status\": \"Completed\", \"run_type\": \"azureml.scriptrun\", \"training_percent\": \"100\", \"start_time\": \"2021-01-02T18:20:46.164823Z\", \"end_time\": \"2021-01-02T18:21:25.140964Z\", \"created_time\": \"2021-01-02T18:20:36.570296Z\", \"created_time_dt\": \"2021-01-02T18:20:36.570296Z\", \"duration\": \"0:00:48\", \"iteration\": \"11\", \"goal\": \"AUC_weighted_max\", \"run_name\": \"MaxAbsScaler, RandomForest\", \"run_properties\": \"copy=True\", \"primary_metric\": 0.75391115, \"best_metric\": 0.77832991}, {\"run_id\": \"AutoML_0d1cb3c5-44c5-4bee-81a5-a3646969425a_13\", \"run_number\": 17, \"metric\": null, \"status\": \"Completed\", \"run_type\": \"azureml.scriptrun\", \"training_percent\": \"100\", \"start_time\": \"2021-01-02T18:20:47.213001Z\", \"end_time\": \"2021-01-02T18:21:23.652435Z\", \"created_time\": \"2021-01-02T18:20:36.628956Z\", \"created_time_dt\": \"2021-01-02T18:20:36.628956Z\", \"duration\": \"0:00:47\", \"iteration\": \"13\", \"goal\": \"AUC_weighted_max\", \"run_name\": \"StandardScalerWrapper, XGBoostClassifier\", \"run_properties\": \"<azureml.automl.runtime.shared.model_wrappers.StandardScalerWrapper object at 0x7f23ed1b95f8\", \"primary_metric\": 0.76979514, \"best_metric\": 0.77832991}, {\"run_id\": \"AutoML_0d1cb3c5-44c5-4bee-81a5-a3646969425a_12\", \"run_number\": 18, \"metric\": null, \"status\": \"Completed\", \"run_type\": \"azureml.scriptrun\", \"training_percent\": \"100\", \"start_time\": \"2021-01-02T18:20:47.616856Z\", \"end_time\": \"2021-01-02T18:21:24.185593Z\", \"created_time\": \"2021-01-02T18:20:36.631429Z\", \"created_time_dt\": \"2021-01-02T18:20:36.631429Z\", \"duration\": \"0:00:47\", \"iteration\": \"12\", \"goal\": \"AUC_weighted_max\", \"run_name\": \"MaxAbsScaler, RandomForest\", \"run_properties\": \"copy=True\", \"primary_metric\": 0.75539983, \"best_metric\": 0.77832991}, {\"run_id\": \"AutoML_0d1cb3c5-44c5-4bee-81a5-a3646969425a_14\", \"run_number\": 19, \"metric\": null, \"status\": \"Completed\", \"run_type\": \"azureml.scriptrun\", \"training_percent\": \"100\", \"start_time\": \"2021-01-02T18:21:07.083815Z\", \"end_time\": \"2021-01-02T18:21:43.726813Z\", \"created_time\": \"2021-01-02T18:20:57.008194Z\", \"created_time_dt\": \"2021-01-02T18:20:57.008194Z\", \"duration\": \"0:00:46\", \"iteration\": \"14\", \"goal\": \"AUC_weighted_max\", \"run_name\": \"MaxAbsScaler, RandomForest\", \"run_properties\": \"copy=True\", \"primary_metric\": 0.74229286, \"best_metric\": 0.77832991}, {\"run_id\": \"AutoML_0d1cb3c5-44c5-4bee-81a5-a3646969425a_15\", \"run_number\": 20, \"metric\": null, \"status\": \"Completed\", \"run_type\": \"azureml.scriptrun\", \"training_percent\": \"100\", \"start_time\": \"2021-01-02T18:21:36.657485Z\", \"end_time\": \"2021-01-02T18:22:12.970195Z\", \"created_time\": \"2021-01-02T18:21:26.53032Z\", \"created_time_dt\": \"2021-01-02T18:21:26.53032Z\", \"duration\": \"0:00:46\", \"iteration\": \"15\", \"goal\": \"AUC_weighted_max\", \"run_name\": \"StandardScalerWrapper, ExtremeRandomTrees\", \"run_properties\": \"<azureml.automl.runtime.shared.model_wrappers.StandardScalerWrapper object at 0x7f02d803afd0\", \"primary_metric\": 0.76161652, \"best_metric\": 0.77832991}, {\"run_id\": \"AutoML_0d1cb3c5-44c5-4bee-81a5-a3646969425a_18\", \"run_number\": 21, \"metric\": null, \"status\": \"Completed\", \"run_type\": \"azureml.scriptrun\", \"training_percent\": \"100\", \"start_time\": \"2021-01-02T18:21:41.116355Z\", \"end_time\": \"2021-01-02T18:22:17.448625Z\", \"created_time\": \"2021-01-02T18:21:31.129021Z\", \"created_time_dt\": \"2021-01-02T18:21:31.129021Z\", \"duration\": \"0:00:46\", \"iteration\": \"18\", \"goal\": \"AUC_weighted_max\", \"run_name\": \"MaxAbsScaler, RandomForest\", \"run_properties\": \"copy=True\", \"primary_metric\": 0.74677369, \"best_metric\": 0.77832991}, {\"run_id\": \"AutoML_0d1cb3c5-44c5-4bee-81a5-a3646969425a_16\", \"run_number\": 22, \"metric\": null, \"status\": \"Completed\", \"run_type\": \"azureml.scriptrun\", \"training_percent\": \"100\", \"start_time\": \"2021-01-02T18:21:40.740608Z\", \"end_time\": \"2021-01-02T18:22:20.059881Z\", \"created_time\": \"2021-01-02T18:21:31.130065Z\", \"created_time_dt\": \"2021-01-02T18:21:31.130065Z\", \"duration\": \"0:00:48\", \"iteration\": \"16\", \"goal\": \"AUC_weighted_max\", \"run_name\": \"MaxAbsScaler, ExtremeRandomTrees\", \"run_properties\": \"copy=True\", \"primary_metric\": 0.77786528, \"best_metric\": 0.77832991}, {\"run_id\": \"AutoML_0d1cb3c5-44c5-4bee-81a5-a3646969425a_17\", \"run_number\": 23, \"metric\": null, \"status\": \"Completed\", \"run_type\": \"azureml.scriptrun\", \"training_percent\": \"100\", \"start_time\": \"2021-01-02T18:21:42.278642Z\", \"end_time\": \"2021-01-02T18:22:18.720875Z\", \"created_time\": \"2021-01-02T18:21:31.130581Z\", \"created_time_dt\": \"2021-01-02T18:21:31.130581Z\", \"duration\": \"0:00:47\", \"iteration\": \"17\", \"goal\": \"AUC_weighted_max\", \"run_name\": \"MaxAbsScaler, ExtremeRandomTrees\", \"run_properties\": \"copy=True\", \"primary_metric\": 0.75929102, \"best_metric\": 0.77832991}, {\"run_id\": \"AutoML_0d1cb3c5-44c5-4bee-81a5-a3646969425a_19\", \"run_number\": 24, \"metric\": null, \"status\": \"Completed\", \"run_type\": \"azureml.scriptrun\", \"training_percent\": \"100\", \"start_time\": \"2021-01-02T18:21:56.60573Z\", \"end_time\": \"2021-01-02T18:22:35.747963Z\", \"created_time\": \"2021-01-02T18:21:46.391016Z\", \"created_time_dt\": \"2021-01-02T18:21:46.391016Z\", \"duration\": \"0:00:49\", \"iteration\": \"19\", \"goal\": \"AUC_weighted_max\", \"run_name\": \"StandardScalerWrapper, LogisticRegression\", \"run_properties\": \"<azureml.automl.runtime.shared.model_wrappers.StandardScalerWrapper object at 0x7f5f48723358\", \"primary_metric\": 0.68560456, \"best_metric\": 0.77832991}, {\"run_id\": \"AutoML_0d1cb3c5-44c5-4bee-81a5-a3646969425a_20\", \"run_number\": 25, \"metric\": null, \"status\": \"Completed\", \"run_type\": \"azureml.scriptrun\", \"training_percent\": \"100\", \"start_time\": \"2021-01-02T18:22:26.530288Z\", \"end_time\": \"2021-01-02T18:23:23.048186Z\", \"created_time\": \"2021-01-02T18:22:15.561954Z\", \"created_time_dt\": \"2021-01-02T18:22:15.561954Z\", \"duration\": \"0:01:07\", \"iteration\": \"20\", \"goal\": \"AUC_weighted_max\", \"run_name\": \"StandardScalerWrapper, XGBoostClassifier\", \"run_properties\": \"<azureml.automl.runtime.shared.model_wrappers.StandardScalerWrapper object at 0x7ffab834f128\", \"primary_metric\": 0.77480143, \"best_metric\": 0.77832991}, {\"run_id\": \"AutoML_0d1cb3c5-44c5-4bee-81a5-a3646969425a_21\", \"run_number\": 26, \"metric\": null, \"status\": \"Completed\", \"run_type\": \"azureml.scriptrun\", \"training_percent\": \"100\", \"start_time\": \"2021-01-02T18:22:29.746143Z\", \"end_time\": \"2021-01-02T18:23:09.21559Z\", \"created_time\": \"2021-01-02T18:22:19.792285Z\", \"created_time_dt\": \"2021-01-02T18:22:19.792285Z\", \"duration\": \"0:00:49\", \"iteration\": \"21\", \"goal\": \"AUC_weighted_max\", \"run_name\": \"SparseNormalizer, XGBoostClassifier\", \"run_properties\": \"<azureml.automl.runtime.shared.model_wrappers.SparseNormalizer object at 0x7fd8a8041a58\", \"primary_metric\": 0.72652438, \"best_metric\": 0.77832991}, {\"run_id\": \"AutoML_0d1cb3c5-44c5-4bee-81a5-a3646969425a_22\", \"run_number\": 27, \"metric\": null, \"status\": \"Completed\", \"run_type\": \"azureml.scriptrun\", \"training_percent\": \"100\", \"start_time\": \"2021-01-02T18:22:32.283714Z\", \"end_time\": \"2021-01-02T18:23:08.614256Z\", \"created_time\": \"2021-01-02T18:22:22.907872Z\", \"created_time_dt\": \"2021-01-02T18:22:22.907872Z\", \"duration\": \"0:00:45\", \"iteration\": \"22\", \"goal\": \"AUC_weighted_max\", \"run_name\": \"MaxAbsScaler, LightGBM\", \"run_properties\": \"copy=True\", \"primary_metric\": 0.7599838, \"best_metric\": 0.77832991}, {\"run_id\": \"AutoML_0d1cb3c5-44c5-4bee-81a5-a3646969425a_23\", \"run_number\": 28, \"metric\": null, \"status\": \"Completed\", \"run_type\": \"azureml.scriptrun\", \"training_percent\": \"100\", \"start_time\": \"2021-01-02T18:22:32.747894Z\", \"end_time\": \"2021-01-02T18:23:11.70503Z\", \"created_time\": \"2021-01-02T18:22:22.919727Z\", \"created_time_dt\": \"2021-01-02T18:22:22.919727Z\", \"duration\": \"0:00:48\", \"iteration\": \"23\", \"goal\": \"AUC_weighted_max\", \"run_name\": \"MaxAbsScaler, LightGBM\", \"run_properties\": \"copy=True\", \"primary_metric\": 0.77151307, \"best_metric\": 0.77832991}, {\"run_id\": \"AutoML_0d1cb3c5-44c5-4bee-81a5-a3646969425a_24\", \"run_number\": 29, \"metric\": null, \"status\": \"Completed\", \"run_type\": \"azureml.scriptrun\", \"training_percent\": \"100\", \"start_time\": \"2021-01-02T18:22:47.541895Z\", \"end_time\": \"2021-01-02T18:23:23.842562Z\", \"created_time\": \"2021-01-02T18:22:37.575678Z\", \"created_time_dt\": \"2021-01-02T18:22:37.575678Z\", \"duration\": \"0:00:46\", \"iteration\": \"24\", \"goal\": \"AUC_weighted_max\", \"run_name\": \"StandardScalerWrapper, XGBoostClassifier\", \"run_properties\": \"<azureml.automl.runtime.shared.model_wrappers.StandardScalerWrapper object at 0x7f6a2463fa58\", \"primary_metric\": 0.76395512, \"best_metric\": 0.77832991}, {\"run_id\": \"AutoML_0d1cb3c5-44c5-4bee-81a5-a3646969425a_25\", \"run_number\": 30, \"metric\": null, \"status\": \"Completed\", \"run_type\": \"azureml.scriptrun\", \"training_percent\": \"100\", \"start_time\": \"2021-01-02T18:23:21.649676Z\", \"end_time\": \"2021-01-02T18:24:00.790775Z\", \"created_time\": \"2021-01-02T18:23:11.463269Z\", \"created_time_dt\": \"2021-01-02T18:23:11.463269Z\", \"duration\": \"0:00:49\", \"iteration\": \"25\", \"goal\": \"AUC_weighted_max\", \"run_name\": \"MaxAbsScaler, ExtremeRandomTrees\", \"run_properties\": \"copy=True\", \"primary_metric\": 0.75727804, \"best_metric\": 0.77832991}, {\"run_id\": \"AutoML_0d1cb3c5-44c5-4bee-81a5-a3646969425a_27\", \"run_number\": 31, \"metric\": null, \"status\": \"Completed\", \"run_type\": \"azureml.scriptrun\", \"training_percent\": \"100\", \"start_time\": \"2021-01-02T18:23:24.393589Z\", \"end_time\": \"2021-01-02T18:24:03.323348Z\", \"created_time\": \"2021-01-02T18:23:14.83001Z\", \"created_time_dt\": \"2021-01-02T18:23:14.83001Z\", \"duration\": \"0:00:48\", \"iteration\": \"27\", \"goal\": \"AUC_weighted_max\", \"run_name\": \"StandardScalerWrapper, LightGBM\", \"run_properties\": \"<azureml.automl.runtime.shared.model_wrappers.StandardScalerWrapper object at 0x7f6af4046e80\", \"primary_metric\": 0.76866065, \"best_metric\": 0.77832991}, {\"run_id\": \"AutoML_0d1cb3c5-44c5-4bee-81a5-a3646969425a_26\", \"run_number\": 32, \"metric\": null, \"status\": \"Completed\", \"run_type\": \"azureml.scriptrun\", \"training_percent\": \"100\", \"start_time\": \"2021-01-02T18:23:25.678201Z\", \"end_time\": \"2021-01-02T18:24:04.612352Z\", \"created_time\": \"2021-01-02T18:23:14.828962Z\", \"created_time_dt\": \"2021-01-02T18:23:14.828962Z\", \"duration\": \"0:00:49\", \"iteration\": \"26\", \"goal\": \"AUC_weighted_max\", \"run_name\": \"StandardScalerWrapper, XGBoostClassifier\", \"run_properties\": \"<azureml.automl.runtime.shared.model_wrappers.StandardScalerWrapper object at 0x7faaef345e10\", \"primary_metric\": 0.73904864, \"best_metric\": 0.77832991}, {\"run_id\": \"AutoML_0d1cb3c5-44c5-4bee-81a5-a3646969425a_28\", \"run_number\": 33, \"metric\": null, \"status\": \"Completed\", \"run_type\": \"azureml.scriptrun\", \"training_percent\": \"100\", \"start_time\": \"2021-01-02T18:23:34.853487Z\", \"end_time\": \"2021-01-02T18:24:14.118604Z\", \"created_time\": \"2021-01-02T18:23:24.950428Z\", \"created_time_dt\": \"2021-01-02T18:23:24.950428Z\", \"duration\": \"0:00:49\", \"iteration\": \"28\", \"goal\": \"AUC_weighted_max\", \"run_name\": \"StandardScalerWrapper, LightGBM\", \"run_properties\": \"<azureml.automl.runtime.shared.model_wrappers.StandardScalerWrapper object at 0x7f7308743c50\", \"primary_metric\": 0.77478959, \"best_metric\": 0.77832991}, {\"run_id\": \"AutoML_0d1cb3c5-44c5-4bee-81a5-a3646969425a_29\", \"run_number\": 34, \"metric\": null, \"status\": \"Completed\", \"run_type\": \"azureml.scriptrun\", \"training_percent\": \"100\", \"start_time\": \"2021-01-02T18:23:37.899761Z\", \"end_time\": \"2021-01-02T18:24:16.988417Z\", \"created_time\": \"2021-01-02T18:23:28.18424Z\", \"created_time_dt\": \"2021-01-02T18:23:28.18424Z\", \"duration\": \"0:00:48\", \"iteration\": \"29\", \"goal\": \"AUC_weighted_max\", \"run_name\": \"SparseNormalizer, LightGBM\", \"run_properties\": \"<azureml.automl.runtime.shared.model_wrappers.SparseNormalizer object at 0x7ff1b66bd668\", \"primary_metric\": 0.73525141, \"best_metric\": 0.77832991}, {\"run_id\": \"AutoML_0d1cb3c5-44c5-4bee-81a5-a3646969425a_30\", \"run_number\": 35, \"metric\": null, \"status\": \"Completed\", \"run_type\": \"azureml.scriptrun\", \"training_percent\": \"100\", \"start_time\": \"2021-01-02T18:24:15.030924Z\", \"end_time\": \"2021-01-02T18:24:56.729294Z\", \"created_time\": \"2021-01-02T18:24:04.994041Z\", \"created_time_dt\": \"2021-01-02T18:24:04.994041Z\", \"duration\": \"0:00:51\", \"iteration\": \"30\", \"goal\": \"AUC_weighted_max\", \"run_name\": \"TruncatedSVDWrapper, ExtremeRandomTrees\", \"run_properties\": \"n_components=0.3563157894736842, random_state=None\", \"primary_metric\": 0.61155589, \"best_metric\": 0.77832991}, {\"run_id\": \"AutoML_0d1cb3c5-44c5-4bee-81a5-a3646969425a_31\", \"run_number\": 36, \"metric\": null, \"status\": \"Completed\", \"run_type\": \"azureml.scriptrun\", \"training_percent\": \"100\", \"start_time\": \"2021-01-02T18:24:18.668919Z\", \"end_time\": \"2021-01-02T18:24:55.495273Z\", \"created_time\": \"2021-01-02T18:24:08.73289Z\", \"created_time_dt\": \"2021-01-02T18:24:08.73289Z\", \"duration\": \"0:00:46\", \"iteration\": \"31\", \"goal\": \"AUC_weighted_max\", \"run_name\": \"SparseNormalizer, LightGBM\", \"run_properties\": \"<azureml.automl.runtime.shared.model_wrappers.SparseNormalizer object at 0x7feedc630b70\", \"primary_metric\": 0.73746766, \"best_metric\": 0.77832991}, {\"run_id\": \"AutoML_0d1cb3c5-44c5-4bee-81a5-a3646969425a_32\", \"run_number\": 37, \"metric\": null, \"status\": \"Completed\", \"run_type\": \"azureml.scriptrun\", \"training_percent\": \"100\", \"start_time\": \"2021-01-02T18:24:19.849726Z\", \"end_time\": \"2021-01-02T18:24:58.938109Z\", \"created_time\": \"2021-01-02T18:24:08.834899Z\", \"created_time_dt\": \"2021-01-02T18:24:08.834899Z\", \"duration\": \"0:00:50\", \"iteration\": \"32\", \"goal\": \"AUC_weighted_max\", \"run_name\": \"MaxAbsScaler, LightGBM\", \"run_properties\": \"copy=True\", \"primary_metric\": 0.7661317, \"best_metric\": 0.77832991}, {\"run_id\": \"AutoML_0d1cb3c5-44c5-4bee-81a5-a3646969425a_33\", \"run_number\": 38, \"metric\": null, \"status\": \"Completed\", \"run_type\": \"azureml.scriptrun\", \"training_percent\": \"100\", \"start_time\": \"2021-01-02T18:24:26.814437Z\", \"end_time\": \"2021-01-02T18:25:06.232405Z\", \"created_time\": \"2021-01-02T18:24:15.868015Z\", \"created_time_dt\": \"2021-01-02T18:24:15.868015Z\", \"duration\": \"0:00:50\", \"iteration\": \"33\", \"goal\": \"AUC_weighted_max\", \"run_name\": \"SparseNormalizer, XGBoostClassifier\", \"run_properties\": \"<azureml.automl.runtime.shared.model_wrappers.SparseNormalizer object at 0x7f945d8f2fd0\", \"primary_metric\": 0.73015222, \"best_metric\": 0.77832991}, {\"run_id\": \"AutoML_0d1cb3c5-44c5-4bee-81a5-a3646969425a_34\", \"run_number\": 39, \"metric\": null, \"status\": \"Completed\", \"run_type\": \"azureml.scriptrun\", \"training_percent\": \"100\", \"start_time\": \"2021-01-02T18:24:29.048524Z\", \"end_time\": \"2021-01-02T18:25:05.399448Z\", \"created_time\": \"2021-01-02T18:24:19.142011Z\", \"created_time_dt\": \"2021-01-02T18:24:19.142011Z\", \"duration\": \"0:00:46\", \"iteration\": \"34\", \"goal\": \"AUC_weighted_max\", \"run_name\": \"MaxAbsScaler, LightGBM\", \"run_properties\": \"copy=True\", \"primary_metric\": 0.76062268, \"best_metric\": 0.77832991}, {\"run_id\": \"AutoML_0d1cb3c5-44c5-4bee-81a5-a3646969425a_35\", \"run_number\": 40, \"metric\": null, \"status\": \"Canceled\", \"run_type\": \"azureml.scriptrun\", \"training_percent\": \"100\", \"start_time\": \"2021-01-02T18:24:58.331079Z\", \"end_time\": \"2021-01-02T18:25:13.685698Z\", \"created_time\": \"2021-01-02T18:24:58.331079Z\", \"created_time_dt\": \"2021-01-02T18:24:58.331079Z\", \"duration\": \"0:00:15\", \"iteration\": \"35\", \"goal\": null, \"run_name\": \"Canceled\", \"run_properties\": null}, {\"run_id\": \"AutoML_0d1cb3c5-44c5-4bee-81a5-a3646969425a_36\", \"run_number\": 41, \"metric\": null, \"status\": \"Canceled\", \"run_type\": \"azureml.scriptrun\", \"training_percent\": \"100\", \"start_time\": \"2021-01-02T18:25:01.542719Z\", \"end_time\": \"2021-01-02T18:25:16.483941Z\", \"created_time\": \"2021-01-02T18:25:01.542719Z\", \"created_time_dt\": \"2021-01-02T18:25:01.542719Z\", \"duration\": \"0:00:14\", \"iteration\": \"36\", \"goal\": null, \"run_name\": \"Canceled\", \"run_properties\": null}, {\"run_id\": \"AutoML_0d1cb3c5-44c5-4bee-81a5-a3646969425a_37\", \"run_number\": 42, \"metric\": null, \"status\": \"Canceled\", \"run_type\": \"azureml.scriptrun\", \"training_percent\": \"100\", \"start_time\": \"2021-01-02T18:25:01.551233Z\", \"end_time\": \"2021-01-02T18:25:17.406438Z\", \"created_time\": \"2021-01-02T18:25:01.551233Z\", \"created_time_dt\": \"2021-01-02T18:25:01.551233Z\", \"duration\": \"0:00:15\", \"iteration\": \"37\", \"goal\": null, \"run_name\": \"Canceled\", \"run_properties\": null}, {\"run_id\": \"AutoML_0d1cb3c5-44c5-4bee-81a5-a3646969425a_38\", \"run_number\": 43, \"metric\": null, \"status\": \"Completed\", \"run_type\": \"azureml.scriptrun\", \"training_percent\": \"100\", \"start_time\": \"2021-01-02T18:25:28.473679Z\", \"end_time\": \"2021-01-02T18:26:40.682048Z\", \"created_time\": \"2021-01-02T18:25:18.239642Z\", \"created_time_dt\": \"2021-01-02T18:25:18.239642Z\", \"duration\": \"0:01:22\", \"iteration\": \"38\", \"goal\": \"AUC_weighted_max\", \"run_name\": \"VotingEnsemble\", \"run_properties\": \"classification_labels=None,\\n                              estimators=[('5',\\n                                           Pipeline(memory=None,\\n                                                    steps=[('maxabsscaler',\\n                                                            MaxAbsScaler(copy=True\", \"primary_metric\": 0.78663893, \"best_metric\": 0.78663893}, {\"run_id\": \"AutoML_0d1cb3c5-44c5-4bee-81a5-a3646969425a_39\", \"run_number\": 44, \"metric\": null, \"status\": \"Completed\", \"run_type\": \"azureml.scriptrun\", \"training_percent\": \"100\", \"start_time\": \"2021-01-02T18:25:29.319933Z\", \"end_time\": \"2021-01-02T18:26:38.531209Z\", \"created_time\": \"2021-01-02T18:25:18.24289Z\", \"created_time_dt\": \"2021-01-02T18:25:18.24289Z\", \"duration\": \"0:01:20\", \"iteration\": \"39\", \"goal\": \"AUC_weighted_max\", \"run_name\": \"StackEnsemble\", \"run_properties\": \"base_learners=[('5',\\n                                        Pipeline(memory=None,\\n                                                 steps=[('maxabsscaler',\\n                                                         MaxAbsScaler(copy=True\", \"primary_metric\": 0.78632582, \"best_metric\": 0.78663893}], \"children_metrics\": {\"categories\": [0], \"series\": {\"f1_score_weighted\": [{\"categories\": [\"0\", \"1\", \"2\", \"3\", \"4\", \"5\", \"6\", \"7\", \"8\", \"9\", \"10\", \"11\", \"12\", \"13\", \"14\", \"15\", \"16\", \"17\", \"18\", \"19\", \"20\", \"21\", \"22\", \"23\", \"24\", \"25\", \"26\", \"27\", \"28\", \"29\", \"30\", \"31\", \"32\", \"33\", \"34\", \"38\", \"39\"], \"mode\": \"markers\", \"name\": \"f1_score_weighted\", \"stepped\": false, \"type\": \"scatter\", \"data\": [0.7689851679940781, 0.7635107427739912, 0.7170409074873213, 0.7613996035842008, 0.6680883129137829, 0.7453786749309158, 0.7592994442188484, 0.6772130091682594, 0.6700673488312091, 0.7474995090976306, 0.7395275759345327, 0.734005252322032, 0.7530843400454831, 0.7294389122350382, 0.6818490572187056, 0.7571095814358273, 0.7505543739177024, 0.7607079514497671, 0.7346081062559146, 0.7311574856688604, 0.778592124157291, 0.7392258686669756, 0.7728067876849082, 0.7650916949833323, 0.775300954740823, 0.7168110531513404, 0.7722199878548811, 0.7519006095693851, 0.7535143983290183, 0.7599626506214502, 0.651509085239879, 0.7524614885787262, 0.7144531049332649, 0.72367051318808, 0.7698412718526596, 0.7730757305347463, 0.6700673488312091]}, {\"categories\": [\"0\", \"1\", \"2\", \"3\", \"4\", \"5\", \"6\", \"7\", \"8\", \"9\", \"10\", \"11\", \"12\", \"13\", \"14\", \"15\", \"16\", \"17\", \"18\", \"19\", \"20\", \"21\", \"22\", \"23\", \"24\", \"25\", \"26\", \"27\", \"28\", \"29\", \"30\", \"31\", \"32\", \"33\", \"34\", \"38\", \"39\"], \"mode\": \"lines\", \"name\": \"f1_score_weighted_max\", \"stepped\": true, \"type\": \"scatter\", \"data\": [0.7689851679940781, 0.7689851679940781, 0.7689851679940781, 0.7689851679940781, 0.7689851679940781, 0.7689851679940781, 0.7689851679940781, 0.7689851679940781, 0.7689851679940781, 0.7689851679940781, 0.7689851679940781, 0.7689851679940781, 0.7689851679940781, 0.7689851679940781, 0.7689851679940781, 0.7689851679940781, 0.7689851679940781, 0.7689851679940781, 0.7689851679940781, 0.7689851679940781, 0.778592124157291, 0.778592124157291, 0.778592124157291, 0.778592124157291, 0.778592124157291, 0.778592124157291, 0.778592124157291, 0.778592124157291, 0.778592124157291, 0.778592124157291, 0.778592124157291, 0.778592124157291, 0.778592124157291, 0.778592124157291, 0.778592124157291, 0.778592124157291, 0.778592124157291]}], \"AUC_macro\": [{\"categories\": [\"0\", \"1\", \"2\", \"3\", \"4\", \"5\", \"6\", \"7\", \"8\", \"9\", \"10\", \"11\", \"12\", \"13\", \"14\", \"15\", \"16\", \"17\", \"18\", \"19\", \"20\", \"21\", \"22\", \"23\", \"24\", \"25\", \"26\", \"27\", \"28\", \"29\", \"30\", \"31\", \"32\", \"33\", \"34\", \"38\", \"39\"], \"mode\": \"markers\", \"name\": \"AUC_macro\", \"stepped\": false, \"type\": \"scatter\", \"data\": [0.7485584172456717, 0.7653330648551679, 0.7691245684096156, 0.7577359610478461, 0.7509370433910654, 0.7783299087698454, 0.7727751204379594, 0.7736022425726321, 0.7659952214429268, 0.7690698118194804, 0.7481994204972814, 0.7539111460311677, 0.7553998285974769, 0.7697951402175499, 0.7422928580900932, 0.761616523165315, 0.7778652765488969, 0.7592910247061789, 0.746773693340898, 0.6856045619178582, 0.7748014325005643, 0.7265243799780469, 0.7599838048827676, 0.7715130670127053, 0.7639551238953036, 0.7572780434972625, 0.7390486399488073, 0.7686606512009568, 0.7747895872606136, 0.7352514058351941, 0.6115558937774844, 0.7374676599591314, 0.7661316992059248, 0.7301522229358489, 0.7606226792469079, 0.7866389250101649, 0.7863258169833265]}, {\"categories\": [\"0\", \"1\", \"2\", \"3\", \"4\", \"5\", \"6\", \"7\", \"8\", \"9\", \"10\", \"11\", \"12\", \"13\", \"14\", \"15\", \"16\", \"17\", \"18\", \"19\", \"20\", \"21\", \"22\", \"23\", \"24\", \"25\", \"26\", \"27\", \"28\", \"29\", \"30\", \"31\", \"32\", \"33\", \"34\", \"38\", \"39\"], \"mode\": \"lines\", \"name\": \"AUC_macro_max\", \"stepped\": true, \"type\": \"scatter\", \"data\": [0.7485584172456717, 0.7653330648551679, 0.7691245684096156, 0.7691245684096156, 0.7691245684096156, 0.7783299087698454, 0.7783299087698454, 0.7783299087698454, 0.7783299087698454, 0.7783299087698454, 0.7783299087698454, 0.7783299087698454, 0.7783299087698454, 0.7783299087698454, 0.7783299087698454, 0.7783299087698454, 0.7783299087698454, 0.7783299087698454, 0.7783299087698454, 0.7783299087698454, 0.7783299087698454, 0.7783299087698454, 0.7783299087698454, 0.7783299087698454, 0.7783299087698454, 0.7783299087698454, 0.7783299087698454, 0.7783299087698454, 0.7783299087698454, 0.7783299087698454, 0.7783299087698454, 0.7783299087698454, 0.7783299087698454, 0.7783299087698454, 0.7783299087698454, 0.7866389250101649, 0.7866389250101649]}], \"recall_score_micro\": [{\"categories\": [\"0\", \"1\", \"2\", \"3\", \"4\", \"5\", \"6\", \"7\", \"8\", \"9\", \"10\", \"11\", \"12\", \"13\", \"14\", \"15\", \"16\", \"17\", \"18\", \"19\", \"20\", \"21\", \"22\", \"23\", \"24\", \"25\", \"26\", \"27\", \"28\", \"29\", \"30\", \"31\", \"32\", \"33\", \"34\", \"38\", \"39\"], \"mode\": \"markers\", \"name\": \"recall_score_micro\", \"stepped\": false, \"type\": \"scatter\", \"data\": [0.7790155424885964, 0.7790065514616412, 0.7789855723987461, 0.7470104835374296, 0.7659815504126882, 0.7839845833857809, 0.7929935923947901, 0.769976563389737, 0.7699825574077072, 0.729031426636217, 0.7190124255992519, 0.713021404638171, 0.7370514226801652, 0.7790005574436712, 0.771978565391739, 0.774978571385757, 0.7320314326302352, 0.7460124795454138, 0.713998429567292, 0.7159914405423388, 0.791006575437713, 0.7789975604346862, 0.7880245514976054, 0.7820155484826143, 0.7900085714456972, 0.693996391601182, 0.7840205474936015, 0.7870085654516793, 0.7820095544646443, 0.7839965714217212, 0.6260122397846949, 0.7800045554536572, 0.7739985494476512, 0.7809995624366882, 0.7920135704566843, 0.7900025774277272, 0.7699825574077072]}, {\"categories\": [\"0\", \"1\", \"2\", \"3\", \"4\", \"5\", \"6\", \"7\", \"8\", \"9\", \"10\", \"11\", \"12\", \"13\", \"14\", \"15\", \"16\", \"17\", \"18\", \"19\", \"20\", \"21\", \"22\", \"23\", \"24\", \"25\", \"26\", \"27\", \"28\", \"29\", \"30\", \"31\", \"32\", \"33\", \"34\", \"38\", \"39\"], \"mode\": \"lines\", \"name\": \"recall_score_micro_max\", \"stepped\": true, \"type\": \"scatter\", \"data\": [0.7790155424885964, 0.7790155424885964, 0.7790155424885964, 0.7790155424885964, 0.7790155424885964, 0.7839845833857809, 0.7929935923947901, 0.7929935923947901, 0.7929935923947901, 0.7929935923947901, 0.7929935923947901, 0.7929935923947901, 0.7929935923947901, 0.7929935923947901, 0.7929935923947901, 0.7929935923947901, 0.7929935923947901, 0.7929935923947901, 0.7929935923947901, 0.7929935923947901, 0.7929935923947901, 0.7929935923947901, 0.7929935923947901, 0.7929935923947901, 0.7929935923947901, 0.7929935923947901, 0.7929935923947901, 0.7929935923947901, 0.7929935923947901, 0.7929935923947901, 0.7929935923947901, 0.7929935923947901, 0.7929935923947901, 0.7929935923947901, 0.7929935923947901, 0.7929935923947901, 0.7929935923947901]}], \"precision_score_micro\": [{\"categories\": [\"0\", \"1\", \"2\", \"3\", \"4\", \"5\", \"6\", \"7\", \"8\", \"9\", \"10\", \"11\", \"12\", \"13\", \"14\", \"15\", \"16\", \"17\", \"18\", \"19\", \"20\", \"21\", \"22\", \"23\", \"24\", \"25\", \"26\", \"27\", \"28\", \"29\", \"30\", \"31\", \"32\", \"33\", \"34\", \"38\", \"39\"], \"mode\": \"markers\", \"name\": \"precision_score_micro\", \"stepped\": false, \"type\": \"scatter\", \"data\": [0.7790155424885964, 0.7790065514616412, 0.7789855723987461, 0.7470104835374296, 0.7659815504126882, 0.7839845833857809, 0.7929935923947901, 0.769976563389737, 0.7699825574077072, 0.729031426636217, 0.7190124255992519, 0.713021404638171, 0.7370514226801652, 0.7790005574436712, 0.771978565391739, 0.774978571385757, 0.7320314326302352, 0.7460124795454138, 0.713998429567292, 0.7159914405423388, 0.791006575437713, 0.7789975604346862, 0.7880245514976054, 0.7820155484826143, 0.7900085714456972, 0.693996391601182, 0.7840205474936015, 0.7870085654516793, 0.7820095544646443, 0.7839965714217212, 0.6260122397846949, 0.7800045554536572, 0.7739985494476512, 0.7809995624366882, 0.7920135704566843, 0.7900025774277272, 0.7699825574077072]}, {\"categories\": [\"0\", \"1\", \"2\", \"3\", \"4\", \"5\", \"6\", \"7\", \"8\", \"9\", \"10\", \"11\", \"12\", \"13\", \"14\", \"15\", \"16\", \"17\", \"18\", \"19\", \"20\", \"21\", \"22\", \"23\", \"24\", \"25\", \"26\", \"27\", \"28\", \"29\", \"30\", \"31\", \"32\", \"33\", \"34\", \"38\", \"39\"], \"mode\": \"lines\", \"name\": \"precision_score_micro_max\", \"stepped\": true, \"type\": \"scatter\", \"data\": [0.7790155424885964, 0.7790155424885964, 0.7790155424885964, 0.7790155424885964, 0.7790155424885964, 0.7839845833857809, 0.7929935923947901, 0.7929935923947901, 0.7929935923947901, 0.7929935923947901, 0.7929935923947901, 0.7929935923947901, 0.7929935923947901, 0.7929935923947901, 0.7929935923947901, 0.7929935923947901, 0.7929935923947901, 0.7929935923947901, 0.7929935923947901, 0.7929935923947901, 0.7929935923947901, 0.7929935923947901, 0.7929935923947901, 0.7929935923947901, 0.7929935923947901, 0.7929935923947901, 0.7929935923947901, 0.7929935923947901, 0.7929935923947901, 0.7929935923947901, 0.7929935923947901, 0.7929935923947901, 0.7929935923947901, 0.7929935923947901, 0.7929935923947901, 0.7929935923947901, 0.7929935923947901]}], \"f1_score_macro\": [{\"categories\": [\"0\", \"1\", \"2\", \"3\", \"4\", \"5\", \"6\", \"7\", \"8\", \"9\", \"10\", \"11\", \"12\", \"13\", \"14\", \"15\", \"16\", \"17\", \"18\", \"19\", \"20\", \"21\", \"22\", \"23\", \"24\", \"25\", \"26\", \"27\", \"28\", \"29\", \"30\", \"31\", \"32\", \"33\", \"34\", \"38\", \"39\"], \"mode\": \"markers\", \"name\": \"f1_score_macro\", \"stepped\": false, \"type\": \"scatter\", \"data\": [0.6603306529730425, 0.6477692920543201, 0.5411145388276783, 0.6884552043158543, 0.4336842015802473, 0.6012593553157194, 0.6257541445345002, 0.4522361449764168, 0.4349488829921026, 0.6787270350687838, 0.6719285485501527, 0.6658070572639485, 0.6809120595562952, 0.5666789077541469, 0.460401313715715, 0.6354400515006263, 0.6824032753225433, 0.687653503942947, 0.6652907417084936, 0.6477391167643145, 0.672287994085952, 0.5879874769893464, 0.6606258265838707, 0.6482401208600835, 0.6651107235618329, 0.6490243489839328, 0.6630123209504885, 0.6122235030593917, 0.617683704826255, 0.6328374807064492, 0.5562866700890039, 0.6197416187333432, 0.5329406573765764, 0.5471040786816753, 0.6470298772549636, 0.6589172624699359, 0.4349488829921026]}, {\"categories\": [\"0\", \"1\", \"2\", \"3\", \"4\", \"5\", \"6\", \"7\", \"8\", \"9\", \"10\", \"11\", \"12\", \"13\", \"14\", \"15\", \"16\", \"17\", \"18\", \"19\", \"20\", \"21\", \"22\", \"23\", \"24\", \"25\", \"26\", \"27\", \"28\", \"29\", \"30\", \"31\", \"32\", \"33\", \"34\", \"38\", \"39\"], \"mode\": \"lines\", \"name\": \"f1_score_macro_max\", \"stepped\": true, \"type\": \"scatter\", \"data\": [0.6603306529730425, 0.6603306529730425, 0.6603306529730425, 0.6884552043158543, 0.6884552043158543, 0.6884552043158543, 0.6884552043158543, 0.6884552043158543, 0.6884552043158543, 0.6884552043158543, 0.6884552043158543, 0.6884552043158543, 0.6884552043158543, 0.6884552043158543, 0.6884552043158543, 0.6884552043158543, 0.6884552043158543, 0.6884552043158543, 0.6884552043158543, 0.6884552043158543, 0.6884552043158543, 0.6884552043158543, 0.6884552043158543, 0.6884552043158543, 0.6884552043158543, 0.6884552043158543, 0.6884552043158543, 0.6884552043158543, 0.6884552043158543, 0.6884552043158543, 0.6884552043158543, 0.6884552043158543, 0.6884552043158543, 0.6884552043158543, 0.6884552043158543, 0.6884552043158543, 0.6884552043158543]}], \"AUC_weighted\": [{\"categories\": [\"0\", \"1\", \"2\", \"3\", \"4\", \"5\", \"6\", \"7\", \"8\", \"9\", \"10\", \"11\", \"12\", \"13\", \"14\", \"15\", \"16\", \"17\", \"18\", \"19\", \"20\", \"21\", \"22\", \"23\", \"24\", \"25\", \"26\", \"27\", \"28\", \"29\", \"30\", \"31\", \"32\", \"33\", \"34\", \"38\", \"39\"], \"mode\": \"markers\", \"name\": \"AUC_weighted\", \"stepped\": false, \"type\": \"scatter\", \"data\": [0.7485584172456718, 0.7653330648551678, 0.7691245684096156, 0.7577359610478461, 0.7509370433910654, 0.7783299087698454, 0.7727751204379594, 0.7736022425726321, 0.7659952214429268, 0.7690698118194804, 0.7481994204972812, 0.7539111460311677, 0.7553998285974769, 0.7697951402175499, 0.7422928580900933, 0.7616165231653148, 0.7778652765488969, 0.759291024706179, 0.746773693340898, 0.6856045619178582, 0.7748014325005643, 0.7265243799780469, 0.7599838048827675, 0.7715130670127053, 0.7639551238953036, 0.7572780434972625, 0.7390486399488073, 0.768660651200957, 0.7747895872606136, 0.7352514058351939, 0.6115558937774845, 0.7374676599591313, 0.7661316992059248, 0.7301522229358489, 0.7606226792469079, 0.7866389250101649, 0.7863258169833265]}, {\"categories\": [\"0\", \"1\", \"2\", \"3\", \"4\", \"5\", \"6\", \"7\", \"8\", \"9\", \"10\", \"11\", \"12\", \"13\", \"14\", \"15\", \"16\", \"17\", \"18\", \"19\", \"20\", \"21\", \"22\", \"23\", \"24\", \"25\", \"26\", \"27\", \"28\", \"29\", \"30\", \"31\", \"32\", \"33\", \"34\", \"38\", \"39\"], \"mode\": \"lines\", \"name\": \"AUC_weighted_max\", \"stepped\": true, \"type\": \"scatter\", \"data\": [0.7485584172456718, 0.7653330648551678, 0.7691245684096156, 0.7691245684096156, 0.7691245684096156, 0.7783299087698454, 0.7783299087698454, 0.7783299087698454, 0.7783299087698454, 0.7783299087698454, 0.7783299087698454, 0.7783299087698454, 0.7783299087698454, 0.7783299087698454, 0.7783299087698454, 0.7783299087698454, 0.7783299087698454, 0.7783299087698454, 0.7783299087698454, 0.7783299087698454, 0.7783299087698454, 0.7783299087698454, 0.7783299087698454, 0.7783299087698454, 0.7783299087698454, 0.7783299087698454, 0.7783299087698454, 0.7783299087698454, 0.7783299087698454, 0.7783299087698454, 0.7783299087698454, 0.7783299087698454, 0.7783299087698454, 0.7783299087698454, 0.7783299087698454, 0.7866389250101649, 0.7866389250101649]}], \"average_precision_score_weighted\": [{\"categories\": [\"0\", \"1\", \"2\", \"3\", \"4\", \"5\", \"6\", \"7\", \"8\", \"9\", \"10\", \"11\", \"12\", \"13\", \"14\", \"15\", \"16\", \"17\", \"18\", \"19\", \"20\", \"21\", \"22\", \"23\", \"24\", \"25\", \"26\", \"27\", \"28\", \"29\", \"30\", \"31\", \"32\", \"33\", \"34\", \"38\", \"39\"], \"mode\": \"markers\", \"name\": \"average_precision_score_weighted\", \"stepped\": false, \"type\": \"scatter\", \"data\": [0.7946722829049998, 0.8050794652286387, 0.8080744418473794, 0.7977585104514523, 0.7949319612782374, 0.8078700842671935, 0.8089874749579528, 0.8105439350834627, 0.7990561195156526, 0.8074187581078087, 0.7908163243209977, 0.8039120866038307, 0.7967444161230549, 0.803637115333677, 0.7918916858003205, 0.795432567177309, 0.8110946191613134, 0.7990691023756781, 0.7906961612665092, 0.7471205328709091, 0.8121347157122206, 0.7830125183803203, 0.7999918887050123, 0.8083233201567656, 0.8052385513678401, 0.7908333150848202, 0.7900764353020481, 0.8086319130577787, 0.808697309073215, 0.7729924862410252, 0.7126018219410901, 0.7824306705658265, 0.8038991737956221, 0.7790325876848717, 0.8019183146197294, 0.8170693121513467, 0.8171355712092844]}, {\"categories\": [\"0\", \"1\", \"2\", \"3\", \"4\", \"5\", \"6\", \"7\", \"8\", \"9\", \"10\", \"11\", \"12\", \"13\", \"14\", \"15\", \"16\", \"17\", \"18\", \"19\", \"20\", \"21\", \"22\", \"23\", \"24\", \"25\", \"26\", \"27\", \"28\", \"29\", \"30\", \"31\", \"32\", \"33\", \"34\", \"38\", \"39\"], \"mode\": \"lines\", \"name\": \"average_precision_score_weighted_max\", \"stepped\": true, \"type\": \"scatter\", \"data\": [0.7946722829049998, 0.8050794652286387, 0.8080744418473794, 0.8080744418473794, 0.8080744418473794, 0.8080744418473794, 0.8089874749579528, 0.8105439350834627, 0.8105439350834627, 0.8105439350834627, 0.8105439350834627, 0.8105439350834627, 0.8105439350834627, 0.8105439350834627, 0.8105439350834627, 0.8105439350834627, 0.8110946191613134, 0.8110946191613134, 0.8110946191613134, 0.8110946191613134, 0.8121347157122206, 0.8121347157122206, 0.8121347157122206, 0.8121347157122206, 0.8121347157122206, 0.8121347157122206, 0.8121347157122206, 0.8121347157122206, 0.8121347157122206, 0.8121347157122206, 0.8121347157122206, 0.8121347157122206, 0.8121347157122206, 0.8121347157122206, 0.8121347157122206, 0.8170693121513467, 0.8171355712092844]}], \"average_precision_score_micro\": [{\"categories\": [\"0\", \"1\", \"2\", \"3\", \"4\", \"5\", \"6\", \"7\", \"8\", \"9\", \"10\", \"11\", \"12\", \"13\", \"14\", \"15\", \"16\", \"17\", \"18\", \"19\", \"20\", \"21\", \"22\", \"23\", \"24\", \"25\", \"26\", \"27\", \"28\", \"29\", \"30\", \"31\", \"32\", \"33\", \"34\", \"38\", \"39\"], \"mode\": \"markers\", \"name\": \"average_precision_score_micro\", \"stepped\": false, \"type\": \"scatter\", \"data\": [0.8341944317887541, 0.8489167405691438, 0.8461274228891278, 0.7832908309034622, 0.8443346459238675, 0.8540983026029346, 0.848545956327133, 0.847217817750546, 0.8407461728047959, 0.7865228174133234, 0.7633664553364626, 0.7797360074571489, 0.7453960087654291, 0.8491732704708895, 0.8359758998865588, 0.8440535514117258, 0.7822120548675416, 0.7795123879332818, 0.7256353179343543, 0.7219874470796457, 0.8495316064971606, 0.8333341473957158, 0.8443410019060938, 0.8533234006012934, 0.8445676511634576, 0.7648077446716979, 0.8289536798623702, 0.8517410949459624, 0.8513914762937785, 0.8245723040784038, 0.6714475524754491, 0.831367979031605, 0.8458311424673491, 0.8278165744903733, 0.8455628046487753, 0.8540659425715663, 0.8495630899526105]}, {\"categories\": [\"0\", \"1\", \"2\", \"3\", \"4\", \"5\", \"6\", \"7\", \"8\", \"9\", \"10\", \"11\", \"12\", \"13\", \"14\", \"15\", \"16\", \"17\", \"18\", \"19\", \"20\", \"21\", \"22\", \"23\", \"24\", \"25\", \"26\", \"27\", \"28\", \"29\", \"30\", \"31\", \"32\", \"33\", \"34\", \"38\", \"39\"], \"mode\": \"lines\", \"name\": \"average_precision_score_micro_max\", \"stepped\": true, \"type\": \"scatter\", \"data\": [0.8341944317887541, 0.8489167405691438, 0.8489167405691438, 0.8489167405691438, 0.8489167405691438, 0.8540983026029346, 0.8540983026029346, 0.8540983026029346, 0.8540983026029346, 0.8540983026029346, 0.8540983026029346, 0.8540983026029346, 0.8540983026029346, 0.8540983026029346, 0.8540983026029346, 0.8540983026029346, 0.8540983026029346, 0.8540983026029346, 0.8540983026029346, 0.8540983026029346, 0.8540983026029346, 0.8540983026029346, 0.8540983026029346, 0.8540983026029346, 0.8540983026029346, 0.8540983026029346, 0.8540983026029346, 0.8540983026029346, 0.8540983026029346, 0.8540983026029346, 0.8540983026029346, 0.8540983026029346, 0.8540983026029346, 0.8540983026029346, 0.8540983026029346, 0.8540983026029346, 0.8540983026029346]}], \"balanced_accuracy\": [{\"categories\": [\"0\", \"1\", \"2\", \"3\", \"4\", \"5\", \"6\", \"7\", \"8\", \"9\", \"10\", \"11\", \"12\", \"13\", \"14\", \"15\", \"16\", \"17\", \"18\", \"19\", \"20\", \"21\", \"22\", \"23\", \"24\", \"25\", \"26\", \"27\", \"28\", \"29\", \"30\", \"31\", \"32\", \"33\", \"34\", \"38\", \"39\"], \"mode\": \"markers\", \"name\": \"balanced_accuracy\", \"stepped\": false, \"type\": \"scatter\", \"data\": [0.6493755247911795, 0.6358287117146472, 0.5591150286135782, 0.7243985953221981, 0.49744320951545284, 0.5971904454197249, 0.616985380119649, 0.5066969431623107, 0.5, 0.7277131710213657, 0.7274372574069822, 0.7216949252441482, 0.7202436523843868, 0.5725420714999803, 0.5106445370516587, 0.6220395136651256, 0.7327366650599556, 0.7244935679368996, 0.7192247558954256, 0.6783237278416246, 0.6584983446083262, 0.5816419442493315, 0.6458813169785111, 0.6343727424306571, 0.650234963588676, 0.7080257697967864, 0.6499447000668099, 0.6023902251582451, 0.6048468647958538, 0.617978215612608, 0.5826181186181456, 0.6077586742972015, 0.5454577585584652, 0.5550169347320286, 0.6297398069938348, 0.6434460026560024, 0.5]}, {\"categories\": [\"0\", \"1\", \"2\", \"3\", \"4\", \"5\", \"6\", \"7\", \"8\", \"9\", \"10\", \"11\", \"12\", \"13\", \"14\", \"15\", \"16\", \"17\", \"18\", \"19\", \"20\", \"21\", \"22\", \"23\", \"24\", \"25\", \"26\", \"27\", \"28\", \"29\", \"30\", \"31\", \"32\", \"33\", \"34\", \"38\", \"39\"], \"mode\": \"lines\", \"name\": \"balanced_accuracy_max\", \"stepped\": true, \"type\": \"scatter\", \"data\": [0.6493755247911795, 0.6493755247911795, 0.6493755247911795, 0.7243985953221981, 0.7243985953221981, 0.7243985953221981, 0.7243985953221981, 0.7243985953221981, 0.7243985953221981, 0.7277131710213657, 0.7277131710213657, 0.7277131710213657, 0.7277131710213657, 0.7277131710213657, 0.7277131710213657, 0.7277131710213657, 0.7327366650599556, 0.7327366650599556, 0.7327366650599556, 0.7327366650599556, 0.7327366650599556, 0.7327366650599556, 0.7327366650599556, 0.7327366650599556, 0.7327366650599556, 0.7327366650599556, 0.7327366650599556, 0.7327366650599556, 0.7327366650599556, 0.7327366650599556, 0.7327366650599556, 0.7327366650599556, 0.7327366650599556, 0.7327366650599556, 0.7327366650599556, 0.7327366650599556, 0.7327366650599556]}], \"f1_score_micro\": [{\"categories\": [\"0\", \"1\", \"2\", \"3\", \"4\", \"5\", \"6\", \"7\", \"8\", \"9\", \"10\", \"11\", \"12\", \"13\", \"14\", \"15\", \"16\", \"17\", \"18\", \"19\", \"20\", \"21\", \"22\", \"23\", \"24\", \"25\", \"26\", \"27\", \"28\", \"29\", \"30\", \"31\", \"32\", \"33\", \"34\", \"38\", \"39\"], \"mode\": \"markers\", \"name\": \"f1_score_micro\", \"stepped\": false, \"type\": \"scatter\", \"data\": [0.7790155424885964, 0.7790065514616412, 0.7789855723987461, 0.7470104835374296, 0.7659815504126882, 0.7839845833857809, 0.7929935923947898, 0.769976563389737, 0.7699825574077072, 0.729031426636217, 0.7190124255992519, 0.713021404638171, 0.7370514226801652, 0.7790005574436712, 0.771978565391739, 0.774978571385757, 0.732031432630235, 0.7460124795454138, 0.7139984295672918, 0.7159914405423388, 0.791006575437713, 0.7789975604346862, 0.7880245514976054, 0.7820155484826143, 0.7900085714456972, 0.693996391601182, 0.7840205474936015, 0.7870085654516793, 0.7820095544646444, 0.7839965714217211, 0.6260122397846949, 0.7800045554536572, 0.7739985494476512, 0.7809995624366882, 0.7920135704566843, 0.7900025774277273, 0.7699825574077072]}, {\"categories\": [\"0\", \"1\", \"2\", \"3\", \"4\", \"5\", \"6\", \"7\", \"8\", \"9\", \"10\", \"11\", \"12\", \"13\", \"14\", \"15\", \"16\", \"17\", \"18\", \"19\", \"20\", \"21\", \"22\", \"23\", \"24\", \"25\", \"26\", \"27\", \"28\", \"29\", \"30\", \"31\", \"32\", \"33\", \"34\", \"38\", \"39\"], \"mode\": \"lines\", \"name\": \"f1_score_micro_max\", \"stepped\": true, \"type\": \"scatter\", \"data\": [0.7790155424885964, 0.7790155424885964, 0.7790155424885964, 0.7790155424885964, 0.7790155424885964, 0.7839845833857809, 0.7929935923947898, 0.7929935923947898, 0.7929935923947898, 0.7929935923947898, 0.7929935923947898, 0.7929935923947898, 0.7929935923947898, 0.7929935923947898, 0.7929935923947898, 0.7929935923947898, 0.7929935923947898, 0.7929935923947898, 0.7929935923947898, 0.7929935923947898, 0.7929935923947898, 0.7929935923947898, 0.7929935923947898, 0.7929935923947898, 0.7929935923947898, 0.7929935923947898, 0.7929935923947898, 0.7929935923947898, 0.7929935923947898, 0.7929935923947898, 0.7929935923947898, 0.7929935923947898, 0.7929935923947898, 0.7929935923947898, 0.7929935923947898, 0.7929935923947898, 0.7929935923947898]}], \"average_precision_score_macro\": [{\"categories\": [\"0\", \"1\", \"2\", \"3\", \"4\", \"5\", \"6\", \"7\", \"8\", \"9\", \"10\", \"11\", \"12\", \"13\", \"14\", \"15\", \"16\", \"17\", \"18\", \"19\", \"20\", \"21\", \"22\", \"23\", \"24\", \"25\", \"26\", \"27\", \"28\", \"29\", \"30\", \"31\", \"32\", \"33\", \"34\", \"38\", \"39\"], \"mode\": \"markers\", \"name\": \"average_precision_score_macro\", \"stepped\": false, \"type\": \"scatter\", \"data\": [0.6919266753795338, 0.6976104900554964, 0.7119226460426237, 0.6933401153056642, 0.6807851391150654, 0.7005283784122053, 0.7135417637462745, 0.7149765739889226, 0.6982190039513094, 0.7112584420490151, 0.6753198977968781, 0.6997441687809278, 0.6908241585781186, 0.6935507763467009, 0.6856942335388068, 0.6837485822393167, 0.7122569570480651, 0.6955034062200355, 0.6838588017270917, 0.6204110361343176, 0.7157429011540147, 0.6700077281706673, 0.6933013081260732, 0.7010947948530261, 0.7069949305008522, 0.6873656479524685, 0.686729811973254, 0.7021348074696997, 0.706467687848173, 0.6605840643165785, 0.5804746181527155, 0.6727026321805655, 0.7016281540553457, 0.6649874095376327, 0.6987652756024306, 0.7259979274421097, 0.726336980364423]}, {\"categories\": [\"0\", \"1\", \"2\", \"3\", \"4\", \"5\", \"6\", \"7\", \"8\", \"9\", \"10\", \"11\", \"12\", \"13\", \"14\", \"15\", \"16\", \"17\", \"18\", \"19\", \"20\", \"21\", \"22\", \"23\", \"24\", \"25\", \"26\", \"27\", \"28\", \"29\", \"30\", \"31\", \"32\", \"33\", \"34\", \"38\", \"39\"], \"mode\": \"lines\", \"name\": \"average_precision_score_macro_max\", \"stepped\": true, \"type\": \"scatter\", \"data\": [0.6919266753795338, 0.6976104900554964, 0.7119226460426237, 0.7119226460426237, 0.7119226460426237, 0.7119226460426237, 0.7135417637462745, 0.7149765739889226, 0.7149765739889226, 0.7149765739889226, 0.7149765739889226, 0.7149765739889226, 0.7149765739889226, 0.7149765739889226, 0.7149765739889226, 0.7149765739889226, 0.7149765739889226, 0.7149765739889226, 0.7149765739889226, 0.7149765739889226, 0.7157429011540147, 0.7157429011540147, 0.7157429011540147, 0.7157429011540147, 0.7157429011540147, 0.7157429011540147, 0.7157429011540147, 0.7157429011540147, 0.7157429011540147, 0.7157429011540147, 0.7157429011540147, 0.7157429011540147, 0.7157429011540147, 0.7157429011540147, 0.7157429011540147, 0.7259979274421097, 0.726336980364423]}], \"matthews_correlation\": [{\"categories\": [\"0\", \"1\", \"2\", \"3\", \"4\", \"5\", \"6\", \"7\", \"8\", \"9\", \"10\", \"11\", \"12\", \"13\", \"14\", \"15\", \"16\", \"17\", \"18\", \"19\", \"20\", \"21\", \"22\", \"23\", \"24\", \"25\", \"26\", \"27\", \"28\", \"29\", \"30\", \"31\", \"32\", \"33\", \"34\", \"38\", \"39\"], \"mode\": \"markers\", \"name\": \"matthews_correlation\", \"stepped\": false, \"type\": \"scatter\", \"data\": [0.3301471531329116, 0.31359539179582724, 0.2146288294756429, 0.4004420978156175, -0.026331496026945483, 0.27560154326797703, 0.3267591893284077, 0.06224778998924866, 0.0, 0.3968501519198801, 0.3919213810665782, 0.3818398801602482, 0.3926246415146, 0.2413381298287811, 0.09485302432145155, 0.28893993078939717, 0.40482109749084466, 0.39955810566389244, 0.37831795103195925, 0.3180706122571407, 0.3573290872778329, 0.24297449058708545, 0.3423531835401859, 0.318810435717684, 0.3466262714824384, 0.3550480469943596, 0.33830542039383404, 0.2937212746526839, 0.2791996648176306, 0.29846751200368044, 0.14391927695040008, 0.2794965694327675, 0.18273038903702052, 0.20859108041855443, 0.3267313679350096, 0.33913409028624436, 0.0]}, {\"categories\": [\"0\", \"1\", \"2\", \"3\", \"4\", \"5\", \"6\", \"7\", \"8\", \"9\", \"10\", \"11\", \"12\", \"13\", \"14\", \"15\", \"16\", \"17\", \"18\", \"19\", \"20\", \"21\", \"22\", \"23\", \"24\", \"25\", \"26\", \"27\", \"28\", \"29\", \"30\", \"31\", \"32\", \"33\", \"34\", \"38\", \"39\"], \"mode\": \"lines\", \"name\": \"matthews_correlation_max\", \"stepped\": true, \"type\": \"scatter\", \"data\": [0.3301471531329116, 0.3301471531329116, 0.3301471531329116, 0.4004420978156175, 0.4004420978156175, 0.4004420978156175, 0.4004420978156175, 0.4004420978156175, 0.4004420978156175, 0.4004420978156175, 0.4004420978156175, 0.4004420978156175, 0.4004420978156175, 0.4004420978156175, 0.4004420978156175, 0.4004420978156175, 0.40482109749084466, 0.40482109749084466, 0.40482109749084466, 0.40482109749084466, 0.40482109749084466, 0.40482109749084466, 0.40482109749084466, 0.40482109749084466, 0.40482109749084466, 0.40482109749084466, 0.40482109749084466, 0.40482109749084466, 0.40482109749084466, 0.40482109749084466, 0.40482109749084466, 0.40482109749084466, 0.40482109749084466, 0.40482109749084466, 0.40482109749084466, 0.40482109749084466, 0.40482109749084466]}], \"log_loss\": [{\"categories\": [\"0\", \"1\", \"2\", \"3\", \"4\", \"5\", \"6\", \"7\", \"8\", \"9\", \"10\", \"11\", \"12\", \"13\", \"14\", \"15\", \"16\", \"17\", \"18\", \"19\", \"20\", \"21\", \"22\", \"23\", \"24\", \"25\", \"26\", \"27\", \"28\", \"29\", \"30\", \"31\", \"32\", \"33\", \"34\", \"38\", \"39\"], \"mode\": \"markers\", \"name\": \"log_loss\", \"stepped\": false, \"type\": \"scatter\", \"data\": [0.5870972045813401, 0.46461285924396645, 0.46027103585842166, 0.5737703963487322, 0.4829176092617895, 0.45458592255132446, 0.4520393816516524, 0.4644741257226726, 0.4802207966828311, 0.5717182927666532, 0.5911387560625417, 0.578127707406182, 0.6470835600978612, 0.5056360118073396, 0.4751212794515866, 0.461450074807125, 0.5504718888926019, 0.5861639062330879, 0.6280148263413531, 0.7636301132450436, 0.45200066217225743, 0.4788576852061939, 0.47294214552574615, 0.45181343403365753, 0.491618078797372, 0.5753119873996243, 0.595929897655025, 0.45938446748776834, 0.45093679717343393, 0.4808247985077783, 0.6812724393325759, 0.48265766057627046, 0.4580532568803597, 0.5178003678275508, 0.45458900087163484, 0.46104432271721735, 0.5403488500882156]}, {\"categories\": [\"0\", \"1\", \"2\", \"3\", \"4\", \"5\", \"6\", \"7\", \"8\", \"9\", \"10\", \"11\", \"12\", \"13\", \"14\", \"15\", \"16\", \"17\", \"18\", \"19\", \"20\", \"21\", \"22\", \"23\", \"24\", \"25\", \"26\", \"27\", \"28\", \"29\", \"30\", \"31\", \"32\", \"33\", \"34\", \"38\", \"39\"], \"mode\": \"lines\", \"name\": \"log_loss_min\", \"stepped\": true, \"type\": \"scatter\", \"data\": [0.5870972045813401, 0.46461285924396645, 0.46027103585842166, 0.46027103585842166, 0.46027103585842166, 0.45458592255132446, 0.4520393816516524, 0.4520393816516524, 0.4520393816516524, 0.4520393816516524, 0.4520393816516524, 0.4520393816516524, 0.4520393816516524, 0.4520393816516524, 0.4520393816516524, 0.4520393816516524, 0.4520393816516524, 0.4520393816516524, 0.4520393816516524, 0.4520393816516524, 0.45200066217225743, 0.45200066217225743, 0.45200066217225743, 0.45181343403365753, 0.45181343403365753, 0.45181343403365753, 0.45181343403365753, 0.45181343403365753, 0.45093679717343393, 0.45093679717343393, 0.45093679717343393, 0.45093679717343393, 0.45093679717343393, 0.45093679717343393, 0.45093679717343393, 0.45093679717343393, 0.45093679717343393]}], \"precision_score_weighted\": [{\"categories\": [\"0\", \"1\", \"2\", \"3\", \"4\", \"5\", \"6\", \"7\", \"8\", \"9\", \"10\", \"11\", \"12\", \"13\", \"14\", \"15\", \"16\", \"17\", \"18\", \"19\", \"20\", \"21\", \"22\", \"23\", \"24\", \"25\", \"26\", \"27\", \"28\", \"29\", \"30\", \"31\", \"32\", \"33\", \"34\", \"38\", \"39\"], \"mode\": \"markers\", \"name\": \"precision_score_weighted\", \"stepped\": false, \"type\": \"scatter\", \"data\": [0.7657395708942069, 0.7610258316382673, 0.7844221019234071, 0.7934137370494398, 0.5925930409575733, 0.7640260310255226, 0.7862623461417542, 0.6902852424558411, 0.5932792684865763, 0.7955823868803158, 0.7962311956160019, 0.7933866654002406, 0.7922854440042121, 0.766032422676231, 0.7536926787961807, 0.7516778298035173, 0.798983463750361, 0.793342344091759, 0.7916339019419746, 0.7631204768409562, 0.7754164295680641, 0.7478231650540249, 0.7730109378468679, 0.7641880887638095, 0.7724209634054883, 0.783564654214829, 0.7692836477545012, 0.7698094756583301, 0.7562825324983896, 0.7591254106966251, 0.7009017583796341, 0.7537898044994039, 0.7467855137345989, 0.7520446094965253, 0.7713479573664763, 0.7713967946099544, 0.5932792684865763]}, {\"categories\": [\"0\", \"1\", \"2\", \"3\", \"4\", \"5\", \"6\", \"7\", \"8\", \"9\", \"10\", \"11\", \"12\", \"13\", \"14\", \"15\", \"16\", \"17\", \"18\", \"19\", \"20\", \"21\", \"22\", \"23\", \"24\", \"25\", \"26\", \"27\", \"28\", \"29\", \"30\", \"31\", \"32\", \"33\", \"34\", \"38\", \"39\"], \"mode\": \"lines\", \"name\": \"precision_score_weighted_max\", \"stepped\": true, \"type\": \"scatter\", \"data\": [0.7657395708942069, 0.7657395708942069, 0.7844221019234071, 0.7934137370494398, 0.7934137370494398, 0.7934137370494398, 0.7934137370494398, 0.7934137370494398, 0.7934137370494398, 0.7955823868803158, 0.7962311956160019, 0.7962311956160019, 0.7962311956160019, 0.7962311956160019, 0.7962311956160019, 0.7962311956160019, 0.798983463750361, 0.798983463750361, 0.798983463750361, 0.798983463750361, 0.798983463750361, 0.798983463750361, 0.798983463750361, 0.798983463750361, 0.798983463750361, 0.798983463750361, 0.798983463750361, 0.798983463750361, 0.798983463750361, 0.798983463750361, 0.798983463750361, 0.798983463750361, 0.798983463750361, 0.798983463750361, 0.798983463750361, 0.798983463750361, 0.798983463750361]}], \"recall_score_macro\": [{\"categories\": [\"0\", \"1\", \"2\", \"3\", \"4\", \"5\", \"6\", \"7\", \"8\", \"9\", \"10\", \"11\", \"12\", \"13\", \"14\", \"15\", \"16\", \"17\", \"18\", \"19\", \"20\", \"21\", \"22\", \"23\", \"24\", \"25\", \"26\", \"27\", \"28\", \"29\", \"30\", \"31\", \"32\", \"33\", \"34\", \"38\", \"39\"], \"mode\": \"markers\", \"name\": \"recall_score_macro\", \"stepped\": false, \"type\": \"scatter\", \"data\": [0.6493755247911795, 0.6358287117146472, 0.5591150286135782, 0.7243985953221981, 0.49744320951545284, 0.5971904454197249, 0.616985380119649, 0.5066969431623107, 0.5, 0.7277131710213657, 0.7274372574069822, 0.7216949252441482, 0.7202436523843868, 0.5725420714999803, 0.5106445370516587, 0.6220395136651256, 0.7327366650599556, 0.7244935679368996, 0.7192247558954256, 0.6783237278416246, 0.6584983446083262, 0.5816419442493315, 0.6458813169785111, 0.6343727424306571, 0.650234963588676, 0.7080257697967864, 0.6499447000668099, 0.6023902251582451, 0.6048468647958538, 0.617978215612608, 0.5826181186181456, 0.6077586742972015, 0.5454577585584652, 0.5550169347320286, 0.6297398069938348, 0.6434460026560024, 0.5]}, {\"categories\": [\"0\", \"1\", \"2\", \"3\", \"4\", \"5\", \"6\", \"7\", \"8\", \"9\", \"10\", \"11\", \"12\", \"13\", \"14\", \"15\", \"16\", \"17\", \"18\", \"19\", \"20\", \"21\", \"22\", \"23\", \"24\", \"25\", \"26\", \"27\", \"28\", \"29\", \"30\", \"31\", \"32\", \"33\", \"34\", \"38\", \"39\"], \"mode\": \"lines\", \"name\": \"recall_score_macro_max\", \"stepped\": true, \"type\": \"scatter\", \"data\": [0.6493755247911795, 0.6493755247911795, 0.6493755247911795, 0.7243985953221981, 0.7243985953221981, 0.7243985953221981, 0.7243985953221981, 0.7243985953221981, 0.7243985953221981, 0.7277131710213657, 0.7277131710213657, 0.7277131710213657, 0.7277131710213657, 0.7277131710213657, 0.7277131710213657, 0.7277131710213657, 0.7327366650599556, 0.7327366650599556, 0.7327366650599556, 0.7327366650599556, 0.7327366650599556, 0.7327366650599556, 0.7327366650599556, 0.7327366650599556, 0.7327366650599556, 0.7327366650599556, 0.7327366650599556, 0.7327366650599556, 0.7327366650599556, 0.7327366650599556, 0.7327366650599556, 0.7327366650599556, 0.7327366650599556, 0.7327366650599556, 0.7327366650599556, 0.7327366650599556, 0.7327366650599556]}], \"precision_score_macro\": [{\"categories\": [\"0\", \"1\", \"2\", \"3\", \"4\", \"5\", \"6\", \"7\", \"8\", \"9\", \"10\", \"11\", \"12\", \"13\", \"14\", \"15\", \"16\", \"17\", \"18\", \"19\", \"20\", \"21\", \"22\", \"23\", \"24\", \"25\", \"26\", \"27\", \"28\", \"29\", \"30\", \"31\", \"32\", \"33\", \"34\", \"38\", \"39\"], \"mode\": \"markers\", \"name\": \"precision_score_macro\", \"stepped\": false, \"type\": \"scatter\", \"data\": [0.6829724320405882, 0.6821123019548235, 0.7655772050085817, 0.6786896176387703, 0.3845527345527346, 0.7073215830291302, 0.7434018425337173, 0.6083530612518122, 0.3849912787038536, 0.6730283381772212, 0.6689967182258033, 0.6644945769408181, 0.6752892434605998, 0.7208341940014872, 0.7202196623486076, 0.6713852089392974, 0.6761718901761794, 0.6778858220382263, 0.6632923135368592, 0.642057593778132, 0.7018047027098299, 0.6826270522930075, 0.7020695634406309, 0.69037627544324, 0.7003593896588335, 0.6515620024043498, 0.6912968034935534, 0.7173348105466623, 0.687465945323027, 0.6894741374397415, 0.5627755982205255, 0.6827113163141525, 0.6887020645378971, 0.7000195875432418, 0.7061261475481864, 0.7012469699759146, 0.3849912787038536]}, {\"categories\": [\"0\", \"1\", \"2\", \"3\", \"4\", \"5\", \"6\", \"7\", \"8\", \"9\", \"10\", \"11\", \"12\", \"13\", \"14\", \"15\", \"16\", \"17\", \"18\", \"19\", \"20\", \"21\", \"22\", \"23\", \"24\", \"25\", \"26\", \"27\", \"28\", \"29\", \"30\", \"31\", \"32\", \"33\", \"34\", \"38\", \"39\"], \"mode\": \"lines\", \"name\": \"precision_score_macro_max\", \"stepped\": true, \"type\": \"scatter\", \"data\": [0.6829724320405882, 0.6829724320405882, 0.7655772050085817, 0.7655772050085817, 0.7655772050085817, 0.7655772050085817, 0.7655772050085817, 0.7655772050085817, 0.7655772050085817, 0.7655772050085817, 0.7655772050085817, 0.7655772050085817, 0.7655772050085817, 0.7655772050085817, 0.7655772050085817, 0.7655772050085817, 0.7655772050085817, 0.7655772050085817, 0.7655772050085817, 0.7655772050085817, 0.7655772050085817, 0.7655772050085817, 0.7655772050085817, 0.7655772050085817, 0.7655772050085817, 0.7655772050085817, 0.7655772050085817, 0.7655772050085817, 0.7655772050085817, 0.7655772050085817, 0.7655772050085817, 0.7655772050085817, 0.7655772050085817, 0.7655772050085817, 0.7655772050085817, 0.7655772050085817, 0.7655772050085817]}], \"weighted_accuracy\": [{\"categories\": [\"0\", \"1\", \"2\", \"3\", \"4\", \"5\", \"6\", \"7\", \"8\", \"9\", \"10\", \"11\", \"12\", \"13\", \"14\", \"15\", \"16\", \"17\", \"18\", \"19\", \"20\", \"21\", \"22\", \"23\", \"24\", \"25\", \"26\", \"27\", \"28\", \"29\", \"30\", \"31\", \"32\", \"33\", \"34\", \"38\", \"39\"], \"mode\": \"markers\", \"name\": \"weighted_accuracy\", \"stepped\": false, \"type\": \"scatter\", \"data\": [0.8497304281538103, 0.857634101934023, 0.9002992583832787, 0.7585916877947151, 0.9122133327759783, 0.8872378727952132, 0.8905044138569854, 0.9135114398895475, 0.9169597763038975, 0.7296317482716677, 0.714524480289985, 0.7076417696191365, 0.746033572066389, 0.8925101565833934, 0.914341880359669, 0.8580017865916011, 0.7316420375362033, 0.7573780525200129, 0.7104666955674289, 0.7363351400376597, 0.863645682629691, 0.8868485213292443, 0.8660488784542547, 0.862953369768216, 0.8665977386611733, 0.6860472380601688, 0.8572720214304179, 0.8886453471096649, 0.8783841109411178, 0.8745579169464062, 0.6500866975326569, 0.8745323057602441, 0.8986567275328952, 0.9038383172995225, 0.8803768782714624, 0.8701107131528808, 0.9169597763038975]}, {\"categories\": [\"0\", \"1\", \"2\", \"3\", \"4\", \"5\", \"6\", \"7\", \"8\", \"9\", \"10\", \"11\", \"12\", \"13\", \"14\", \"15\", \"16\", \"17\", \"18\", \"19\", \"20\", \"21\", \"22\", \"23\", \"24\", \"25\", \"26\", \"27\", \"28\", \"29\", \"30\", \"31\", \"32\", \"33\", \"34\", \"38\", \"39\"], \"mode\": \"lines\", \"name\": \"weighted_accuracy_max\", \"stepped\": true, \"type\": \"scatter\", \"data\": [0.8497304281538103, 0.857634101934023, 0.9002992583832787, 0.9002992583832787, 0.9122133327759783, 0.9122133327759783, 0.9122133327759783, 0.9135114398895475, 0.9169597763038975, 0.9169597763038975, 0.9169597763038975, 0.9169597763038975, 0.9169597763038975, 0.9169597763038975, 0.9169597763038975, 0.9169597763038975, 0.9169597763038975, 0.9169597763038975, 0.9169597763038975, 0.9169597763038975, 0.9169597763038975, 0.9169597763038975, 0.9169597763038975, 0.9169597763038975, 0.9169597763038975, 0.9169597763038975, 0.9169597763038975, 0.9169597763038975, 0.9169597763038975, 0.9169597763038975, 0.9169597763038975, 0.9169597763038975, 0.9169597763038975, 0.9169597763038975, 0.9169597763038975, 0.9169597763038975, 0.9169597763038975]}], \"accuracy\": [{\"categories\": [\"0\", \"1\", \"2\", \"3\", \"4\", \"5\", \"6\", \"7\", \"8\", \"9\", \"10\", \"11\", \"12\", \"13\", \"14\", \"15\", \"16\", \"17\", \"18\", \"19\", \"20\", \"21\", \"22\", \"23\", \"24\", \"25\", \"26\", \"27\", \"28\", \"29\", \"30\", \"31\", \"32\", \"33\", \"34\", \"38\", \"39\"], \"mode\": \"markers\", \"name\": \"accuracy\", \"stepped\": false, \"type\": \"scatter\", \"data\": [0.7790155424885964, 0.7790065514616412, 0.7789855723987461, 0.7470104835374296, 0.7659815504126882, 0.7839845833857809, 0.7929935923947901, 0.769976563389737, 0.7699825574077072, 0.729031426636217, 0.7190124255992519, 0.713021404638171, 0.7370514226801652, 0.7790005574436712, 0.771978565391739, 0.774978571385757, 0.7320314326302352, 0.7460124795454138, 0.713998429567292, 0.7159914405423388, 0.791006575437713, 0.7789975604346862, 0.7880245514976054, 0.7820155484826143, 0.7900085714456972, 0.693996391601182, 0.7840205474936015, 0.7870085654516793, 0.7820095544646443, 0.7839965714217212, 0.6260122397846949, 0.7800045554536572, 0.7739985494476512, 0.7809995624366882, 0.7920135704566843, 0.7900025774277272, 0.7699825574077072]}, {\"categories\": [\"0\", \"1\", \"2\", \"3\", \"4\", \"5\", \"6\", \"7\", \"8\", \"9\", \"10\", \"11\", \"12\", \"13\", \"14\", \"15\", \"16\", \"17\", \"18\", \"19\", \"20\", \"21\", \"22\", \"23\", \"24\", \"25\", \"26\", \"27\", \"28\", \"29\", \"30\", \"31\", \"32\", \"33\", \"34\", \"38\", \"39\"], \"mode\": \"lines\", \"name\": \"accuracy_max\", \"stepped\": true, \"type\": \"scatter\", \"data\": [0.7790155424885964, 0.7790155424885964, 0.7790155424885964, 0.7790155424885964, 0.7790155424885964, 0.7839845833857809, 0.7929935923947901, 0.7929935923947901, 0.7929935923947901, 0.7929935923947901, 0.7929935923947901, 0.7929935923947901, 0.7929935923947901, 0.7929935923947901, 0.7929935923947901, 0.7929935923947901, 0.7929935923947901, 0.7929935923947901, 0.7929935923947901, 0.7929935923947901, 0.7929935923947901, 0.7929935923947901, 0.7929935923947901, 0.7929935923947901, 0.7929935923947901, 0.7929935923947901, 0.7929935923947901, 0.7929935923947901, 0.7929935923947901, 0.7929935923947901, 0.7929935923947901, 0.7929935923947901, 0.7929935923947901, 0.7929935923947901, 0.7929935923947901, 0.7929935923947901, 0.7929935923947901]}], \"recall_score_weighted\": [{\"categories\": [\"0\", \"1\", \"2\", \"3\", \"4\", \"5\", \"6\", \"7\", \"8\", \"9\", \"10\", \"11\", \"12\", \"13\", \"14\", \"15\", \"16\", \"17\", \"18\", \"19\", \"20\", \"21\", \"22\", \"23\", \"24\", \"25\", \"26\", \"27\", \"28\", \"29\", \"30\", \"31\", \"32\", \"33\", \"34\", \"38\", \"39\"], \"mode\": \"markers\", \"name\": \"recall_score_weighted\", \"stepped\": false, \"type\": \"scatter\", \"data\": [0.7790155424885964, 0.7790065514616412, 0.7789855723987461, 0.7470104835374296, 0.7659815504126882, 0.7839845833857809, 0.7929935923947901, 0.769976563389737, 0.7699825574077072, 0.729031426636217, 0.7190124255992519, 0.713021404638171, 0.7370514226801652, 0.7790005574436712, 0.771978565391739, 0.774978571385757, 0.7320314326302352, 0.7460124795454138, 0.713998429567292, 0.7159914405423388, 0.791006575437713, 0.7789975604346862, 0.7880245514976054, 0.7820155484826143, 0.7900085714456972, 0.693996391601182, 0.7840205474936015, 0.7870085654516793, 0.7820095544646443, 0.7839965714217212, 0.6260122397846949, 0.7800045554536572, 0.7739985494476512, 0.7809995624366882, 0.7920135704566843, 0.7900025774277272, 0.7699825574077072]}, {\"categories\": [\"0\", \"1\", \"2\", \"3\", \"4\", \"5\", \"6\", \"7\", \"8\", \"9\", \"10\", \"11\", \"12\", \"13\", \"14\", \"15\", \"16\", \"17\", \"18\", \"19\", \"20\", \"21\", \"22\", \"23\", \"24\", \"25\", \"26\", \"27\", \"28\", \"29\", \"30\", \"31\", \"32\", \"33\", \"34\", \"38\", \"39\"], \"mode\": \"lines\", \"name\": \"recall_score_weighted_max\", \"stepped\": true, \"type\": \"scatter\", \"data\": [0.7790155424885964, 0.7790155424885964, 0.7790155424885964, 0.7790155424885964, 0.7790155424885964, 0.7839845833857809, 0.7929935923947901, 0.7929935923947901, 0.7929935923947901, 0.7929935923947901, 0.7929935923947901, 0.7929935923947901, 0.7929935923947901, 0.7929935923947901, 0.7929935923947901, 0.7929935923947901, 0.7929935923947901, 0.7929935923947901, 0.7929935923947901, 0.7929935923947901, 0.7929935923947901, 0.7929935923947901, 0.7929935923947901, 0.7929935923947901, 0.7929935923947901, 0.7929935923947901, 0.7929935923947901, 0.7929935923947901, 0.7929935923947901, 0.7929935923947901, 0.7929935923947901, 0.7929935923947901, 0.7929935923947901, 0.7929935923947901, 0.7929935923947901, 0.7929935923947901, 0.7929935923947901]}], \"norm_macro_recall\": [{\"categories\": [\"0\", \"1\", \"2\", \"3\", \"4\", \"5\", \"6\", \"7\", \"8\", \"9\", \"10\", \"11\", \"12\", \"13\", \"14\", \"15\", \"16\", \"17\", \"18\", \"19\", \"20\", \"21\", \"22\", \"23\", \"24\", \"25\", \"26\", \"27\", \"28\", \"29\", \"30\", \"31\", \"32\", \"33\", \"34\", \"38\", \"39\"], \"mode\": \"markers\", \"name\": \"norm_macro_recall\", \"stepped\": false, \"type\": \"scatter\", \"data\": [0.2987510495823593, 0.27165742342929433, 0.1182300572271564, 0.44879719064439616, 0.0, 0.19438089083944968, 0.23397076023929797, 0.013393886324621462, 0.0, 0.4554263420427314, 0.4548745148139644, 0.44338985048829643, 0.44048730476877357, 0.1450841429999606, 0.021289074103317523, 0.2440790273302512, 0.4654733301199112, 0.44898713587379907, 0.4384495117908512, 0.3566474556832495, 0.31699668921665247, 0.16328388849866293, 0.29176263395702234, 0.2687454848613143, 0.3004699271773521, 0.41605153959357266, 0.2998894001336199, 0.20478045031649028, 0.20969372959170762, 0.23595643122521617, 0.16523623723629122, 0.21551734859440308, 0.09091551711693047, 0.11003386946405724, 0.25947961398766983, 0.2868920053120047, 0.0]}, {\"categories\": [\"0\", \"1\", \"2\", \"3\", \"4\", \"5\", \"6\", \"7\", \"8\", \"9\", \"10\", \"11\", \"12\", \"13\", \"14\", \"15\", \"16\", \"17\", \"18\", \"19\", \"20\", \"21\", \"22\", \"23\", \"24\", \"25\", \"26\", \"27\", \"28\", \"29\", \"30\", \"31\", \"32\", \"33\", \"34\", \"38\", \"39\"], \"mode\": \"lines\", \"name\": \"norm_macro_recall_max\", \"stepped\": true, \"type\": \"scatter\", \"data\": [0.2987510495823593, 0.2987510495823593, 0.2987510495823593, 0.44879719064439616, 0.44879719064439616, 0.44879719064439616, 0.44879719064439616, 0.44879719064439616, 0.44879719064439616, 0.4554263420427314, 0.4554263420427314, 0.4554263420427314, 0.4554263420427314, 0.4554263420427314, 0.4554263420427314, 0.4554263420427314, 0.4654733301199112, 0.4654733301199112, 0.4654733301199112, 0.4654733301199112, 0.4654733301199112, 0.4654733301199112, 0.4654733301199112, 0.4654733301199112, 0.4654733301199112, 0.4654733301199112, 0.4654733301199112, 0.4654733301199112, 0.4654733301199112, 0.4654733301199112, 0.4654733301199112, 0.4654733301199112, 0.4654733301199112, 0.4654733301199112, 0.4654733301199112, 0.4654733301199112, 0.4654733301199112]}], \"AUC_micro\": [{\"categories\": [\"0\", \"1\", \"2\", \"3\", \"4\", \"5\", \"6\", \"7\", \"8\", \"9\", \"10\", \"11\", \"12\", \"13\", \"14\", \"15\", \"16\", \"17\", \"18\", \"19\", \"20\", \"21\", \"22\", \"23\", \"24\", \"25\", \"26\", \"27\", \"28\", \"29\", \"30\", \"31\", \"32\", \"33\", \"34\", \"38\", \"39\"], \"mode\": \"markers\", \"name\": \"AUC_micro\", \"stepped\": false, \"type\": \"scatter\", \"data\": [0.8548987985105501, 0.8639153517787036, 0.8659218471654343, 0.8028250975941935, 0.8587490782542876, 0.8712281854690461, 0.8704170573097391, 0.8669188805826842, 0.8644124756253685, 0.8008736449443373, 0.7763992901271077, 0.7884645296729474, 0.7805492000625497, 0.8648076198159987, 0.8560038506019394, 0.8617843430665862, 0.7998340690731979, 0.8019135129121607, 0.7651512672049362, 0.7483520577930024, 0.8691189691096874, 0.8504443379824247, 0.8622312633076508, 0.867956317600106, 0.8643474757059476, 0.7828238908102163, 0.8495929679270233, 0.8659930342800509, 0.8700799573919279, 0.8515794052176916, 0.680814902583078, 0.8533252224756037, 0.8655767671877707, 0.8512930076255388, 0.8655946594300344, 0.876960698574282, 0.8714127292708115]}, {\"categories\": [\"0\", \"1\", \"2\", \"3\", \"4\", \"5\", \"6\", \"7\", \"8\", \"9\", \"10\", \"11\", \"12\", \"13\", \"14\", \"15\", \"16\", \"17\", \"18\", \"19\", \"20\", \"21\", \"22\", \"23\", \"24\", \"25\", \"26\", \"27\", \"28\", \"29\", \"30\", \"31\", \"32\", \"33\", \"34\", \"38\", \"39\"], \"mode\": \"lines\", \"name\": \"AUC_micro_max\", \"stepped\": true, \"type\": \"scatter\", \"data\": [0.8548987985105501, 0.8639153517787036, 0.8659218471654343, 0.8659218471654343, 0.8659218471654343, 0.8712281854690461, 0.8712281854690461, 0.8712281854690461, 0.8712281854690461, 0.8712281854690461, 0.8712281854690461, 0.8712281854690461, 0.8712281854690461, 0.8712281854690461, 0.8712281854690461, 0.8712281854690461, 0.8712281854690461, 0.8712281854690461, 0.8712281854690461, 0.8712281854690461, 0.8712281854690461, 0.8712281854690461, 0.8712281854690461, 0.8712281854690461, 0.8712281854690461, 0.8712281854690461, 0.8712281854690461, 0.8712281854690461, 0.8712281854690461, 0.8712281854690461, 0.8712281854690461, 0.8712281854690461, 0.8712281854690461, 0.8712281854690461, 0.8712281854690461, 0.876960698574282, 0.876960698574282]}]}, \"metricName\": null, \"primaryMetricName\": \"AUC_weighted\", \"showLegend\": false}, \"run_metrics\": [{\"name\": \"experiment_status\", \"run_id\": \"AutoML_0d1cb3c5-44c5-4bee-81a5-a3646969425a\", \"categories\": [0, 1, 2, 3, 4, 5, 6, 7, 8, 9, 10, 11, 12, 13], \"series\": [{\"data\": [\"DatasetEvaluation\", \"FeaturesGeneration\", \"DatasetFeaturization\", \"DatasetFeaturizationCompleted\", \"DatasetCrossValidationSplit\", \"ModelSelection\", \"BestRunExplainModel\", \"ModelExplanationDataSetSetup\", \"PickSurrogateModel\", \"EngineeredFeatureExplanations\", \"EngineeredFeatureExplanations\", \"RawFeaturesExplanations\", \"RawFeaturesExplanations\", \"BestRunExplainModel\"]}]}, {\"name\": \"experiment_status_description\", \"run_id\": \"AutoML_0d1cb3c5-44c5-4bee-81a5-a3646969425a\", \"categories\": [0, 1, 2, 3, 4, 5, 6, 7, 8, 9, 10, 11, 12, 13], \"series\": [{\"data\": [\"Gathering dataset statistics.\", \"Generating features for the dataset.\", \"Beginning to fit featurizers and featurize the dataset.\", \"Completed fit featurizers and featurizing the dataset.\", \"Generating individually featurized CV splits.\", \"Beginning model selection.\", \"Best run model explanations started\", \"Model explanations data setup completed\", \"Choosing LightGBM as the surrogate model for explanations\", \"Computation of engineered features started\", \"Computation of engineered features completed\", \"Computation of raw features started\", \"Computation of raw features completed\", \"Best run model explanations completed\"]}]}, {\"name\": \"f1_score_micro\", \"run_id\": \"AutoML_0d1cb3c5-44c5-4bee-81a5-a3646969425a\", \"categories\": [0], \"series\": [{\"data\": [0.7900025774277273]}]}, {\"name\": \"AUC_micro\", \"run_id\": \"AutoML_0d1cb3c5-44c5-4bee-81a5-a3646969425a\", \"categories\": [0], \"series\": [{\"data\": [0.876960698574282]}]}, {\"name\": \"precision_score_micro\", \"run_id\": \"AutoML_0d1cb3c5-44c5-4bee-81a5-a3646969425a\", \"categories\": [0], \"series\": [{\"data\": [0.7900025774277272]}]}, {\"name\": \"f1_score_weighted\", \"run_id\": \"AutoML_0d1cb3c5-44c5-4bee-81a5-a3646969425a\", \"categories\": [0], \"series\": [{\"data\": [0.7730757305347463]}]}, {\"name\": \"AUC_macro\", \"run_id\": \"AutoML_0d1cb3c5-44c5-4bee-81a5-a3646969425a\", \"categories\": [0], \"series\": [{\"data\": [0.7866389250101649]}]}, {\"name\": \"average_precision_score_weighted\", \"run_id\": \"AutoML_0d1cb3c5-44c5-4bee-81a5-a3646969425a\", \"categories\": [0], \"series\": [{\"data\": [0.8170693121513467]}]}, {\"name\": \"recall_score_micro\", \"run_id\": \"AutoML_0d1cb3c5-44c5-4bee-81a5-a3646969425a\", \"categories\": [0], \"series\": [{\"data\": [0.7900025774277272]}]}, {\"name\": \"precision_score_weighted\", \"run_id\": \"AutoML_0d1cb3c5-44c5-4bee-81a5-a3646969425a\", \"categories\": [0], \"series\": [{\"data\": [0.7713967946099544]}]}, {\"name\": \"precision_score_macro\", \"run_id\": \"AutoML_0d1cb3c5-44c5-4bee-81a5-a3646969425a\", \"categories\": [0], \"series\": [{\"data\": [0.7012469699759146]}]}, {\"name\": \"norm_macro_recall\", \"run_id\": \"AutoML_0d1cb3c5-44c5-4bee-81a5-a3646969425a\", \"categories\": [0], \"series\": [{\"data\": [0.2868920053120047]}]}, {\"name\": \"accuracy\", \"run_id\": \"AutoML_0d1cb3c5-44c5-4bee-81a5-a3646969425a\", \"categories\": [0], \"series\": [{\"data\": [0.7900025774277272]}]}, {\"name\": \"log_loss\", \"run_id\": \"AutoML_0d1cb3c5-44c5-4bee-81a5-a3646969425a\", \"categories\": [0], \"series\": [{\"data\": [0.46104432271721735]}]}, {\"name\": \"average_precision_score_macro\", \"run_id\": \"AutoML_0d1cb3c5-44c5-4bee-81a5-a3646969425a\", \"categories\": [0], \"series\": [{\"data\": [0.7259979274421097]}]}, {\"name\": \"weighted_accuracy\", \"run_id\": \"AutoML_0d1cb3c5-44c5-4bee-81a5-a3646969425a\", \"categories\": [0], \"series\": [{\"data\": [0.8701107131528808]}]}, {\"name\": \"average_precision_score_micro\", \"run_id\": \"AutoML_0d1cb3c5-44c5-4bee-81a5-a3646969425a\", \"categories\": [0], \"series\": [{\"data\": [0.8540659425715663]}]}, {\"name\": \"recall_score_macro\", \"run_id\": \"AutoML_0d1cb3c5-44c5-4bee-81a5-a3646969425a\", \"categories\": [0], \"series\": [{\"data\": [0.6434460026560024]}]}, {\"name\": \"f1_score_macro\", \"run_id\": \"AutoML_0d1cb3c5-44c5-4bee-81a5-a3646969425a\", \"categories\": [0], \"series\": [{\"data\": [0.6589172624699359]}]}, {\"name\": \"AUC_weighted\", \"run_id\": \"AutoML_0d1cb3c5-44c5-4bee-81a5-a3646969425a\", \"categories\": [0], \"series\": [{\"data\": [0.7866389250101649]}]}, {\"name\": \"recall_score_weighted\", \"run_id\": \"AutoML_0d1cb3c5-44c5-4bee-81a5-a3646969425a\", \"categories\": [0], \"series\": [{\"data\": [0.7900025774277272]}]}, {\"name\": \"balanced_accuracy\", \"run_id\": \"AutoML_0d1cb3c5-44c5-4bee-81a5-a3646969425a\", \"categories\": [0], \"series\": [{\"data\": [0.6434460026560024]}]}, {\"name\": \"matthews_correlation\", \"run_id\": \"AutoML_0d1cb3c5-44c5-4bee-81a5-a3646969425a\", \"categories\": [0], \"series\": [{\"data\": [0.33913409028624436]}]}], \"run_logs\": \"\\nRun is completed.\", \"graph\": {}, \"widget_settings\": {\"childWidgetDisplay\": \"popup\", \"send_telemetry\": false, \"log_level\": \"INFO\", \"sdk_version\": \"1.19.0\"}, \"loading\": false}"
     },
     "metadata": {},
     "output_type": "display_data"
    },
    {
     "data": {
      "text/plain": [
       "{'runId': 'AutoML_0d1cb3c5-44c5-4bee-81a5-a3646969425a',\n",
       " 'target': 'standard-ds12-v2',\n",
       " 'status': 'Completed',\n",
       " 'startTimeUtc': '2021-01-02T18:09:30.346584Z',\n",
       " 'endTimeUtc': '2021-01-02T18:26:48.394775Z',\n",
       " 'properties': {'num_iterations': '1000',\n",
       "  'training_type': 'TrainFull',\n",
       "  'acquisition_function': 'EI',\n",
       "  'primary_metric': 'AUC_weighted',\n",
       "  'train_split': '0',\n",
       "  'acquisition_parameter': '0',\n",
       "  'num_cross_validation': None,\n",
       "  'target': 'standard-ds12-v2',\n",
       "  'AMLSettingsJsonString': '{\"path\":null,\"name\":\"data-science-job-leavers-small-automl\",\"subscription_id\":\"ea9f71e6-aef9-4b3a-837d-f651463b4205\",\"resource_group\":\"WS2020120214_rg\",\"workspace_name\":\"WS2020120214\",\"region\":\"uksouth\",\"compute_target\":\"standard-ds12-v2\",\"spark_service\":null,\"azure_service\":\"remote\",\"many_models\":false,\"pipeline_fetch_max_batch_size\":1,\"iterations\":1000,\"primary_metric\":\"AUC_weighted\",\"task_type\":\"classification\",\"data_script\":null,\"validation_size\":0.0,\"n_cross_validations\":null,\"y_min\":null,\"y_max\":null,\"num_classes\":null,\"featurization\":\"auto\",\"_ignore_package_version_incompatibilities\":false,\"is_timeseries\":false,\"max_cores_per_iteration\":1,\"max_concurrent_iterations\":5,\"iteration_timeout_minutes\":null,\"mem_in_mb\":null,\"enforce_time_on_windows\":false,\"experiment_timeout_minutes\":15,\"experiment_exit_score\":null,\"whitelist_models\":null,\"blacklist_algos\":[\"TensorFlowLinearClassifier\",\"TensorFlowDNN\"],\"supported_models\":[\"LightGBM\",\"GradientBoosting\",\"TensorFlowLinearClassifier\",\"RandomForest\",\"KNN\",\"SGD\",\"LinearSVM\",\"ExtremeRandomTrees\",\"SVM\",\"TensorFlowDNN\",\"LogisticRegression\",\"BernoulliNaiveBayes\",\"MultinomialNaiveBayes\",\"AveragedPerceptronClassifier\",\"XGBoostClassifier\",\"DecisionTree\"],\"auto_blacklist\":true,\"blacklist_samples_reached\":false,\"exclude_nan_labels\":true,\"verbosity\":20,\"_debug_log\":\"azureml_automl.log\",\"show_warnings\":false,\"model_explainability\":true,\"service_url\":null,\"sdk_url\":null,\"sdk_packages\":null,\"enable_onnx_compatible_models\":false,\"enable_split_onnx_featurizer_estimator_models\":false,\"vm_type\":\"STANDARD_DS12_V2\",\"telemetry_verbosity\":20,\"send_telemetry\":true,\"enable_dnn\":false,\"scenario\":\"SDK-1.13.0\",\"environment_label\":null,\"force_text_dnn\":false,\"enable_feature_sweeping\":true,\"enable_early_stopping\":true,\"early_stopping_n_iters\":10,\"metrics\":null,\"enable_ensembling\":true,\"enable_stack_ensembling\":true,\"ensemble_iterations\":15,\"enable_tf\":false,\"enable_subsampling\":null,\"subsample_seed\":null,\"enable_nimbusml\":false,\"enable_streaming\":false,\"force_streaming\":false,\"track_child_runs\":true,\"allowed_private_models\":[],\"label_column_name\":\"target\",\"weight_column_name\":null,\"cv_split_column_names\":null,\"enable_local_managed\":false,\"_local_managed_run_id\":null,\"cost_mode\":1,\"lag_length\":0,\"metric_operation\":\"maximize\",\"preprocess\":true}',\n",
       "  'DataPrepJsonString': '{\\\\\"training_data\\\\\": \\\\\"{\\\\\\\\\\\\\"blocks\\\\\\\\\\\\\": [{\\\\\\\\\\\\\"id\\\\\\\\\\\\\": \\\\\\\\\\\\\"a8f7056c-0b5a-4cd0-9fbc-1d28d516a046\\\\\\\\\\\\\", \\\\\\\\\\\\\"type\\\\\\\\\\\\\": \\\\\\\\\\\\\"Microsoft.DPrep.GetDatastoreFilesBlock\\\\\\\\\\\\\", \\\\\\\\\\\\\"arguments\\\\\\\\\\\\\": {\\\\\\\\\\\\\"datastores\\\\\\\\\\\\\": [{\\\\\\\\\\\\\"datastoreName\\\\\\\\\\\\\": \\\\\\\\\\\\\"workspaceblobstore\\\\\\\\\\\\\", \\\\\\\\\\\\\"path\\\\\\\\\\\\\": \\\\\\\\\\\\\"UI/01-02-2021_060343_UTC/job_leaver_aug_small.csv\\\\\\\\\\\\\", \\\\\\\\\\\\\"resourceGroup\\\\\\\\\\\\\": \\\\\\\\\\\\\"WS2020120214_rg\\\\\\\\\\\\\", \\\\\\\\\\\\\"subscription\\\\\\\\\\\\\": \\\\\\\\\\\\\"ea9f71e6-aef9-4b3a-837d-f651463b4205\\\\\\\\\\\\\", \\\\\\\\\\\\\"workspaceName\\\\\\\\\\\\\": \\\\\\\\\\\\\"WS2020120214\\\\\\\\\\\\\"}]}, \\\\\\\\\\\\\"localData\\\\\\\\\\\\\": {}, \\\\\\\\\\\\\"isEnabled\\\\\\\\\\\\\": true, \\\\\\\\\\\\\"name\\\\\\\\\\\\\": null, \\\\\\\\\\\\\"annotation\\\\\\\\\\\\\": null}, {\\\\\\\\\\\\\"id\\\\\\\\\\\\\": \\\\\\\\\\\\\"9f2c8170-0a47-4641-8218-0205cbcacd50\\\\\\\\\\\\\", \\\\\\\\\\\\\"type\\\\\\\\\\\\\": \\\\\\\\\\\\\"Microsoft.DPrep.ParseDelimitedBlock\\\\\\\\\\\\\", \\\\\\\\\\\\\"arguments\\\\\\\\\\\\\": {\\\\\\\\\\\\\"columnHeadersMode\\\\\\\\\\\\\": 1, \\\\\\\\\\\\\"fileEncoding\\\\\\\\\\\\\": 0, \\\\\\\\\\\\\"handleQuotedLineBreaks\\\\\\\\\\\\\": false, \\\\\\\\\\\\\"preview\\\\\\\\\\\\\": false, \\\\\\\\\\\\\"separator\\\\\\\\\\\\\": \\\\\\\\\\\\\",\\\\\\\\\\\\\", \\\\\\\\\\\\\"skipRows\\\\\\\\\\\\\": 0, \\\\\\\\\\\\\"skipRowsMode\\\\\\\\\\\\\": 0}, \\\\\\\\\\\\\"localData\\\\\\\\\\\\\": {}, \\\\\\\\\\\\\"isEnabled\\\\\\\\\\\\\": true, \\\\\\\\\\\\\"name\\\\\\\\\\\\\": null, \\\\\\\\\\\\\"annotation\\\\\\\\\\\\\": null}, {\\\\\\\\\\\\\"id\\\\\\\\\\\\\": \\\\\\\\\\\\\"fe317562-3b5a-4a25-838c-80c04f9df369\\\\\\\\\\\\\", \\\\\\\\\\\\\"type\\\\\\\\\\\\\": \\\\\\\\\\\\\"Microsoft.DPrep.DropColumnsBlock\\\\\\\\\\\\\", \\\\\\\\\\\\\"arguments\\\\\\\\\\\\\": {\\\\\\\\\\\\\"columns\\\\\\\\\\\\\": {\\\\\\\\\\\\\"type\\\\\\\\\\\\\": 0, \\\\\\\\\\\\\"details\\\\\\\\\\\\\": {\\\\\\\\\\\\\"selectedColumns\\\\\\\\\\\\\": [\\\\\\\\\\\\\"Path\\\\\\\\\\\\\"]}}}, \\\\\\\\\\\\\"localData\\\\\\\\\\\\\": {}, \\\\\\\\\\\\\"isEnabled\\\\\\\\\\\\\": true, \\\\\\\\\\\\\"name\\\\\\\\\\\\\": null, \\\\\\\\\\\\\"annotation\\\\\\\\\\\\\": null}, {\\\\\\\\\\\\\"id\\\\\\\\\\\\\": \\\\\\\\\\\\\"db95040b-39dd-421c-9df8-c2564b23d1ee\\\\\\\\\\\\\", \\\\\\\\\\\\\"type\\\\\\\\\\\\\": \\\\\\\\\\\\\"Microsoft.DPrep.SetColumnTypesBlock\\\\\\\\\\\\\", \\\\\\\\\\\\\"arguments\\\\\\\\\\\\\": {\\\\\\\\\\\\\"columnConversion\\\\\\\\\\\\\": [{\\\\\\\\\\\\\"column\\\\\\\\\\\\\": {\\\\\\\\\\\\\"type\\\\\\\\\\\\\": 2, \\\\\\\\\\\\\"details\\\\\\\\\\\\\": {\\\\\\\\\\\\\"selectedColumn\\\\\\\\\\\\\": \\\\\\\\\\\\\"Path\\\\\\\\\\\\\"}}, \\\\\\\\\\\\\"typeProperty\\\\\\\\\\\\\": 0}, {\\\\\\\\\\\\\"column\\\\\\\\\\\\\": {\\\\\\\\\\\\\"type\\\\\\\\\\\\\": 2, \\\\\\\\\\\\\"details\\\\\\\\\\\\\": {\\\\\\\\\\\\\"selectedColumn\\\\\\\\\\\\\": \\\\\\\\\\\\\"enrollee_id\\\\\\\\\\\\\"}}, \\\\\\\\\\\\\"typeProperty\\\\\\\\\\\\\": 2}, {\\\\\\\\\\\\\"column\\\\\\\\\\\\\": {\\\\\\\\\\\\\"type\\\\\\\\\\\\\": 2, \\\\\\\\\\\\\"details\\\\\\\\\\\\\": {\\\\\\\\\\\\\"selectedColumn\\\\\\\\\\\\\": \\\\\\\\\\\\\"city\\\\\\\\\\\\\"}}, \\\\\\\\\\\\\"typeProperty\\\\\\\\\\\\\": 0}, {\\\\\\\\\\\\\"column\\\\\\\\\\\\\": {\\\\\\\\\\\\\"type\\\\\\\\\\\\\": 2, \\\\\\\\\\\\\"details\\\\\\\\\\\\\": {\\\\\\\\\\\\\"selectedColumn\\\\\\\\\\\\\": \\\\\\\\\\\\\"city_development_index\\\\\\\\\\\\\"}}, \\\\\\\\\\\\\"typeProperty\\\\\\\\\\\\\": 3}, {\\\\\\\\\\\\\"column\\\\\\\\\\\\\": {\\\\\\\\\\\\\"type\\\\\\\\\\\\\": 2, \\\\\\\\\\\\\"details\\\\\\\\\\\\\": {\\\\\\\\\\\\\"selectedColumn\\\\\\\\\\\\\": \\\\\\\\\\\\\"gender\\\\\\\\\\\\\"}}, \\\\\\\\\\\\\"typeProperty\\\\\\\\\\\\\": 0}, {\\\\\\\\\\\\\"column\\\\\\\\\\\\\": {\\\\\\\\\\\\\"type\\\\\\\\\\\\\": 2, \\\\\\\\\\\\\"details\\\\\\\\\\\\\": {\\\\\\\\\\\\\"selectedColumn\\\\\\\\\\\\\": \\\\\\\\\\\\\"relevent_experience\\\\\\\\\\\\\"}}, \\\\\\\\\\\\\"typeProperty\\\\\\\\\\\\\": 0}, {\\\\\\\\\\\\\"column\\\\\\\\\\\\\": {\\\\\\\\\\\\\"type\\\\\\\\\\\\\": 2, \\\\\\\\\\\\\"details\\\\\\\\\\\\\": {\\\\\\\\\\\\\"selectedColumn\\\\\\\\\\\\\": \\\\\\\\\\\\\"enrolled_university\\\\\\\\\\\\\"}}, \\\\\\\\\\\\\"typeProperty\\\\\\\\\\\\\": 0}, {\\\\\\\\\\\\\"column\\\\\\\\\\\\\": {\\\\\\\\\\\\\"type\\\\\\\\\\\\\": 2, \\\\\\\\\\\\\"details\\\\\\\\\\\\\": {\\\\\\\\\\\\\"selectedColumn\\\\\\\\\\\\\": \\\\\\\\\\\\\"education_level\\\\\\\\\\\\\"}}, \\\\\\\\\\\\\"typeProperty\\\\\\\\\\\\\": 0}, {\\\\\\\\\\\\\"column\\\\\\\\\\\\\": {\\\\\\\\\\\\\"type\\\\\\\\\\\\\": 2, \\\\\\\\\\\\\"details\\\\\\\\\\\\\": {\\\\\\\\\\\\\"selectedColumn\\\\\\\\\\\\\": \\\\\\\\\\\\\"major_discipline\\\\\\\\\\\\\"}}, \\\\\\\\\\\\\"typeProperty\\\\\\\\\\\\\": 0}, {\\\\\\\\\\\\\"column\\\\\\\\\\\\\": {\\\\\\\\\\\\\"type\\\\\\\\\\\\\": 2, \\\\\\\\\\\\\"details\\\\\\\\\\\\\": {\\\\\\\\\\\\\"selectedColumn\\\\\\\\\\\\\": \\\\\\\\\\\\\"experience\\\\\\\\\\\\\"}}, \\\\\\\\\\\\\"typeProperty\\\\\\\\\\\\\": 0}, {\\\\\\\\\\\\\"column\\\\\\\\\\\\\": {\\\\\\\\\\\\\"type\\\\\\\\\\\\\": 2, \\\\\\\\\\\\\"details\\\\\\\\\\\\\": {\\\\\\\\\\\\\"selectedColumn\\\\\\\\\\\\\": \\\\\\\\\\\\\"company_size\\\\\\\\\\\\\"}}, \\\\\\\\\\\\\"typeProperty\\\\\\\\\\\\\": 0}, {\\\\\\\\\\\\\"column\\\\\\\\\\\\\": {\\\\\\\\\\\\\"type\\\\\\\\\\\\\": 2, \\\\\\\\\\\\\"details\\\\\\\\\\\\\": {\\\\\\\\\\\\\"selectedColumn\\\\\\\\\\\\\": \\\\\\\\\\\\\"company_type\\\\\\\\\\\\\"}}, \\\\\\\\\\\\\"typeProperty\\\\\\\\\\\\\": 0}, {\\\\\\\\\\\\\"column\\\\\\\\\\\\\": {\\\\\\\\\\\\\"type\\\\\\\\\\\\\": 2, \\\\\\\\\\\\\"details\\\\\\\\\\\\\": {\\\\\\\\\\\\\"selectedColumn\\\\\\\\\\\\\": \\\\\\\\\\\\\"last_new_job\\\\\\\\\\\\\"}}, \\\\\\\\\\\\\"typeProperty\\\\\\\\\\\\\": 0}, {\\\\\\\\\\\\\"column\\\\\\\\\\\\\": {\\\\\\\\\\\\\"type\\\\\\\\\\\\\": 2, \\\\\\\\\\\\\"details\\\\\\\\\\\\\": {\\\\\\\\\\\\\"selectedColumn\\\\\\\\\\\\\": \\\\\\\\\\\\\"training_hours\\\\\\\\\\\\\"}}, \\\\\\\\\\\\\"typeProperty\\\\\\\\\\\\\": 2}, {\\\\\\\\\\\\\"column\\\\\\\\\\\\\": {\\\\\\\\\\\\\"type\\\\\\\\\\\\\": 2, \\\\\\\\\\\\\"details\\\\\\\\\\\\\": {\\\\\\\\\\\\\"selectedColumn\\\\\\\\\\\\\": \\\\\\\\\\\\\"target\\\\\\\\\\\\\"}}, \\\\\\\\\\\\\"typeProperty\\\\\\\\\\\\\": 3}]}, \\\\\\\\\\\\\"localData\\\\\\\\\\\\\": {}, \\\\\\\\\\\\\"isEnabled\\\\\\\\\\\\\": true, \\\\\\\\\\\\\"name\\\\\\\\\\\\\": null, \\\\\\\\\\\\\"annotation\\\\\\\\\\\\\": null}], \\\\\\\\\\\\\"inspectors\\\\\\\\\\\\\": [], \\\\\\\\\\\\\"meta\\\\\\\\\\\\\": {\\\\\\\\\\\\\"savedDatasetId\\\\\\\\\\\\\": \\\\\\\\\\\\\"af7fde8c-4610-48e3-908f-1a99bd6b3789\\\\\\\\\\\\\", \\\\\\\\\\\\\"datasetType\\\\\\\\\\\\\": \\\\\\\\\\\\\"tabular\\\\\\\\\\\\\", \\\\\\\\\\\\\"subscriptionId\\\\\\\\\\\\\": \\\\\\\\\\\\\"ea9f71e6-aef9-4b3a-837d-f651463b4205\\\\\\\\\\\\\", \\\\\\\\\\\\\"workspaceId\\\\\\\\\\\\\": \\\\\\\\\\\\\"39cc36c8-9b05-4eed-afd3-f661e8e4c4f3\\\\\\\\\\\\\", \\\\\\\\\\\\\"workspaceLocation\\\\\\\\\\\\\": \\\\\\\\\\\\\"uksouth\\\\\\\\\\\\\"}}\\\\\", \\\\\"activities\\\\\": 0}',\n",
       "  'EnableSubsampling': None,\n",
       "  'runTemplate': 'AutoML',\n",
       "  'azureml.runsource': 'automl',\n",
       "  'display_task_type': 'classification',\n",
       "  'dependencies_versions': '{\"azureml-widgets\": \"1.19.0\", \"azureml-train\": \"1.19.0\", \"azureml-train-restclients-hyperdrive\": \"1.19.0\", \"azureml-train-core\": \"1.19.0\", \"azureml-train-automl-client\": \"1.19.0\", \"azureml-telemetry\": \"1.19.0\", \"azureml-sdk\": \"1.19.0\", \"azureml-pipeline\": \"1.19.0\", \"azureml-pipeline-steps\": \"1.19.0\", \"azureml-pipeline-core\": \"1.19.0\", \"azureml-dataset-runtime\": \"1.19.0\", \"azureml-dataprep\": \"2.6.3\", \"azureml-dataprep-rslex\": \"1.4.0\", \"azureml-dataprep-native\": \"26.0.0\", \"azureml-core\": \"1.19.0\", \"azureml-automl-core\": \"1.19.0\"}',\n",
       "  '_aml_system_scenario_identification': 'Remote.Parent',\n",
       "  'ClientType': 'SDK',\n",
       "  'environment_cpu_name': 'AzureML-AutoML',\n",
       "  'environment_cpu_label': 'prod',\n",
       "  'environment_gpu_name': 'AzureML-AutoML-GPU',\n",
       "  'environment_gpu_label': 'prod',\n",
       "  'root_attribution': 'automl',\n",
       "  'attribution': 'AutoML',\n",
       "  'Orchestrator': 'AutoML',\n",
       "  'CancelUri': 'https://uksouth.experiments.azureml.net/jasmine/v1.0/subscriptions/ea9f71e6-aef9-4b3a-837d-f651463b4205/resourceGroups/WS2020120214_rg/providers/Microsoft.MachineLearningServices/workspaces/WS2020120214/experimentids/1f4185d1-083a-4f69-9e91-b9a8cff780cc/cancel/AutoML_0d1cb3c5-44c5-4bee-81a5-a3646969425a',\n",
       "  'ClientSdkVersion': '1.19.0',\n",
       "  'snapshotId': '00000000-0000-0000-0000-000000000000',\n",
       "  'SetupRunId': 'AutoML_0d1cb3c5-44c5-4bee-81a5-a3646969425a_setup',\n",
       "  'SetupRunContainerId': 'dcid.AutoML_0d1cb3c5-44c5-4bee-81a5-a3646969425a_setup',\n",
       "  'FeaturizationRunJsonPath': 'featurizer_container.json',\n",
       "  'FeaturizationRunId': 'AutoML_0d1cb3c5-44c5-4bee-81a5-a3646969425a_featurize',\n",
       "  'ProblemInfoJsonString': '{\"dataset_num_categorical\": 0, \"is_sparse\": true, \"subsampling\": false, \"dataset_classes\": 2, \"dataset_features\": 135, \"dataset_samples\": 1000, \"single_frequency_class_detected\": false}',\n",
       "  'ModelExplainRunId': 'AutoML_0d1cb3c5-44c5-4bee-81a5-a3646969425a_ModelExplain'},\n",
       " 'inputDatasets': [{'dataset': {'id': 'af7fde8c-4610-48e3-908f-1a99bd6b3789'}, 'consumptionDetails': {'type': 'RunInput', 'inputName': 'training_data', 'mechanism': 'Direct'}}],\n",
       " 'outputDatasets': [],\n",
       " 'logFiles': {}}"
      ]
     },
     "execution_count": 9,
     "metadata": {},
     "output_type": "execute_result"
    }
   ],
   "source": [
    "from azureml.widgets import RunDetails\n",
    "\n",
    "# Show the status in the notebook as the experiment runs\n",
    "RunDetails(remote_run).show()\n",
    "remote_run.wait_for_completion()"
   ]
  },
  {
   "cell_type": "markdown",
   "metadata": {},
   "source": [
    "## Best Model\n",
    "\n",
    "TODO: In the cell below, get the best model from the automl experiments and display all the properties of the model.\n",
    "\n"
   ]
  },
  {
   "cell_type": "code",
   "execution_count": 13,
   "metadata": {
    "gather": {
     "logged": 1598431425670
    },
    "jupyter": {
     "outputs_hidden": false,
     "source_hidden": false
    },
    "nteract": {
     "transient": {
      "deleting": false
     }
    }
   },
   "outputs": [
    {
     "name": "stderr",
     "output_type": "stream",
     "text": [
      "WARNING:root:The model you attempted to retrieve requires 'azureml-train-automl-runtime' to be installed at '==1.19.0'. Please install 'azureml-train-automl-runtime==1.19.0' (e.g. `pip install azureml-train-automl-runtime==1.19.0`) and then rerun the previous command.\n"
     ]
    },
    {
     "name": "stdout",
     "output_type": "stream",
     "text": [
      "balanced_accuracy 0.6434460026560024\n",
      "matthews_correlation 0.33913409028624436\n",
      "AUC_weighted 0.7866389250101649\n",
      "recall_score_weighted 0.7900025774277272\n",
      "f1_score_macro 0.6589172624699359\n",
      "accuracy 0.7900025774277272\n",
      "recall_score_macro 0.6434460026560024\n",
      "average_precision_score_micro 0.8540659425715663\n",
      "norm_macro_recall 0.2868920053120047\n",
      "average_precision_score_macro 0.7259979274421097\n",
      "precision_score_macro 0.7012469699759146\n",
      "AUC_micro 0.876960698574282\n",
      "AUC_macro 0.7866389250101649\n",
      "precision_score_weighted 0.7713967946099544\n",
      "average_precision_score_weighted 0.8170693121513467\n",
      "recall_score_micro 0.7900025774277272\n",
      "f1_score_weighted 0.7730757305347463\n",
      "f1_score_micro 0.7900025774277273\n",
      "precision_score_micro 0.7900025774277272\n",
      "weighted_accuracy 0.8701107131528808\n",
      "log_loss 0.46104432271721735\n",
      "accuracy_table aml://artifactId/ExperimentRun/dcid.AutoML_0d1cb3c5-44c5-4bee-81a5-a3646969425a_38/accuracy_table\n",
      "confusion_matrix aml://artifactId/ExperimentRun/dcid.AutoML_0d1cb3c5-44c5-4bee-81a5-a3646969425a_38/confusion_matrix\n"
     ]
    }
   ],
   "source": [
    "best_run, fitted_model = remote_run.get_output()\n",
    "best_run_metrics = best_run.get_metrics()\n",
    "for metric_name in best_run_metrics:\n",
    "    metric = best_run_metrics[metric_name]\n",
    "    print(metric_name, metric)"
   ]
  },
  {
   "cell_type": "markdown",
   "metadata": {},
   "source": [
    "## Model Deployment\n",
    "\n",
    "Remember you have to deploy only one of the two models you trained.. Perform the steps in the rest of this notebook only if you wish to deploy this model.\n",
    "\n",
    "TODO: In the cell below, register the model, create an inference config and deploy the model as a web service."
   ]
  },
  {
   "cell_type": "code",
   "execution_count": 6,
   "metadata": {},
   "outputs": [
    {
     "name": "stderr",
     "output_type": "stream",
     "text": [
      "WARNING:root:The model you attempted to retrieve requires 'azureml-train-automl-runtime' to be installed at '==1.19.0'. Please install 'azureml-train-automl-runtime==1.19.0' (e.g. `pip install azureml-train-automl-runtime==1.19.0`) and then rerun the previous command.\n"
     ]
    }
   ],
   "source": [
    "# # I closed the notebook and used this script to allow me \n",
    "# # to continue the work without rerunning all pf the previous code\n",
    "# # <DEV>\n",
    "# run_id = \"AutoML_0d1cb3c5-44c5-4bee-81a5-a3646969425a\"\n",
    "# remote_run = ws.get_run(run_id)\n",
    "# run = remote_run\n",
    "# best_run, fitted_model = remote_run.get_output()\n",
    "# # </DEV>"
   ]
  },
  {
   "cell_type": "code",
   "execution_count": 7,
   "metadata": {},
   "outputs": [],
   "source": [
    "run = remote_run\n",
    "model_name = best_run.properties[\"model_name\"]\n",
    "model = run.register_model(model_name=model_name, description=\"job-leaver automl\", tags=None)"
   ]
  },
  {
   "cell_type": "code",
   "execution_count": 8,
   "metadata": {},
   "outputs": [
    {
     "name": "stdout",
     "output_type": "stream",
     "text": [
      "job_leaver_service folder created.\n"
     ]
    }
   ],
   "source": [
    "import os\n",
    "\n",
    "folder_name = 'job_leaver_service'\n",
    "\n",
    "# Create a folder for the web service files\n",
    "experiment_folder = './' + folder_name\n",
    "os.makedirs(experiment_folder, exist_ok=True)\n",
    "\n",
    "print(folder_name, 'folder created.')"
   ]
  },
  {
   "cell_type": "code",
   "execution_count": 9,
   "metadata": {},
   "outputs": [],
   "source": [
    "from azureml.core import Model\n",
    "from azureml.core.webservice import AciWebservice, Webservice\n",
    "from azureml.core.model import InferenceConfig\n",
    "from azureml.core.environment import Environment\n",
    "from azureml.automl.core.shared import constants"
   ]
  },
  {
   "cell_type": "code",
   "execution_count": 10,
   "metadata": {},
   "outputs": [],
   "source": [
    "folder_name = 'job_leaver_service'\n",
    "entry_script = os.path.join(folder_name, \"score.py\")\n",
    "env_file = os.path.join(folder_name, \"env.yml\")\n",
    "best_run.download_file(\"outputs/scoring_file_v_1_0_0.py\", entry_script)\n",
    "best_run.download_file(constants.CONDA_ENV_FILE_PATH, env_file)"
   ]
  },
  {
   "cell_type": "code",
   "execution_count": 11,
   "metadata": {},
   "outputs": [
    {
     "name": "stdout",
     "output_type": "stream",
     "text": [
      "Tips: You can try get_logs(): https://aka.ms/debugimage#dockerlog or local deployment: https://aka.ms/debugimage#debug-locally to debug if deployment takes longer than 10 minutes.\n",
      "Running.....................................................\n",
      "Succeeded\n",
      "ACI service creation operation finished, operation \"Succeeded\"\n"
     ]
    }
   ],
   "source": [
    "env = Environment.from_conda_specification(name=\"env\", file_path=env_file)\n",
    "inference_config = InferenceConfig(entry_script=entry_script, environment=env)\n",
    "aci_config = AciWebservice.deploy_configuration(cpu_cores=1, memory_gb=1, description=\"job-leavers classification\")\n",
    "\n",
    "service = Model.deploy(ws, \n",
    "                       name=\"job-leaver-service\", \n",
    "                       models=[model], \n",
    "                       inference_config=inference_config, \n",
    "                       deployment_config=aci_config)\n",
    "\n",
    "service.wait_for_deployment(True)"
   ]
  },
  {
   "cell_type": "markdown",
   "metadata": {
    "collapsed": true,
    "gather": {
     "logged": 1598431657736
    },
    "jupyter": {
     "outputs_hidden": false,
     "source_hidden": false
    },
    "nteract": {
     "transient": {
      "deleting": false
     }
    }
   },
   "source": [
    "TODO: In the cell below, send a request to the web service you deployed to test it."
   ]
  },
  {
   "cell_type": "code",
   "execution_count": 12,
   "metadata": {
    "gather": {
     "logged": 1598432707604
    },
    "jupyter": {
     "outputs_hidden": false,
     "source_hidden": false
    },
    "nteract": {
     "transient": {
      "deleting": false
     }
    }
   },
   "outputs": [
    {
     "name": "stdout",
     "output_type": "stream",
     "text": [
      "{\"result\": [0.0]}\n"
     ]
    }
   ],
   "source": [
    "import re\n",
    "import pandas as pd\n",
    "import json\n",
    "import requests\n",
    "\n",
    "\n",
    "# get the associated scoring_uri from the workspace\n",
    "# there must be a better way but ran out of time to find it\n",
    "text = str(ws.webservices['job-leaver-service'])\n",
    "\n",
    "try:\n",
    "    scoring_uri = re.search('tags=(http://[^,]+)', text).group(1)\n",
    "except AttributeError:\n",
    "    scoring_uri = None\n",
    "\n",
    "scoring_uri\n",
    "\n",
    "# get sample data by importing the first record of the kaggle test file and outputting it as a json object\n",
    "\n",
    "data = {\"data\": [{k: [i for i in v.values()][0] for (k,v) in pd.read_csv('data_archive/aug_test.csv', nrows=1).to_dict().items()}]}\n",
    "\n",
    "# check if the scoring_uri has been found and submit a request to it, \n",
    "# using the converted data extracted fromt the kaggle sample data \n",
    "\n",
    "if scoring_uri:\n",
    "    # Convert to JSON string\n",
    "    input_data = json.dumps(data)\n",
    "    with open(\"data.json\", \"w\") as _f:\n",
    "        _f.write(input_data)\n",
    "\n",
    "    # Set the content type\n",
    "    headers = {\"Content-Type\": \"application/json\"}\n",
    "\n",
    "    # Make the request and display the response\n",
    "    resp = requests.post(scoring_uri, input_data, headers=headers)\n",
    "    print(resp.json())"
   ]
  },
  {
   "cell_type": "markdown",
   "metadata": {
    "collapsed": true,
    "gather": {
     "logged": 1598432765711
    },
    "jupyter": {
     "outputs_hidden": false,
     "source_hidden": false
    },
    "nteract": {
     "transient": {
      "deleting": false
     }
    }
   },
   "source": [
    "TODO: In the cell below, print the logs of the web service and delete the service"
   ]
  },
  {
   "cell_type": "code",
   "execution_count": 13,
   "metadata": {
    "jupyter": {
     "outputs_hidden": false,
     "source_hidden": false
    },
    "nteract": {
     "transient": {
      "deleting": false
     }
    }
   },
   "outputs": [
    {
     "name": "stdout",
     "output_type": "stream",
     "text": [
      "2021-01-04T16:26:15,504635300+00:00 - iot-server/run \n",
      "2021-01-04T16:26:15,511290600+00:00 - nginx/run \n",
      "2021-01-04T16:26:15,513268800+00:00 - gunicorn/run \n",
      "/usr/sbin/nginx: /azureml-envs/azureml_9c539d20199ae6be65c41c0382029684/lib/libcrypto.so.1.0.0: no version information available (required by /usr/sbin/nginx)\n",
      "/usr/sbin/nginx: /azureml-envs/azureml_9c539d20199ae6be65c41c0382029684/lib/libcrypto.so.1.0.0: no version information available (required by /usr/sbin/nginx)\n",
      "/usr/sbin/nginx: /azureml-envs/azureml_9c539d20199ae6be65c41c0382029684/lib/libssl.so.1.0.0: no version information available (required by /usr/sbin/nginx)\n",
      "/usr/sbin/nginx: /azureml-envs/azureml_9c539d20199ae6be65c41c0382029684/lib/libssl.so.1.0.0: no version information available (required by /usr/sbin/nginx)\n",
      "/usr/sbin/nginx: /azureml-envs/azureml_9c539d20199ae6be65c41c0382029684/lib/libssl.so.1.0.0: no version information available (required by /usr/sbin/nginx)\n",
      "2021-01-04T16:26:15,529706200+00:00 - rsyslog/run \n",
      "rsyslogd: /azureml-envs/azureml_9c539d20199ae6be65c41c0382029684/lib/libuuid.so.1: no version information available (required by rsyslogd)\n",
      "EdgeHubConnectionString and IOTEDGE_IOTHUBHOSTNAME are not set. Exiting...\n",
      "2021-01-04T16:26:17,266100800+00:00 - iot-server/finish 1 0\n",
      "2021-01-04T16:26:17,271676500+00:00 - Exit code 1 is normal. Not restarting iot-server.\n",
      "Starting gunicorn 19.9.0\n",
      "Listening at: http://127.0.0.1:31311 (72)\n",
      "Using worker: sync\n",
      "worker timeout is set to 300\n",
      "Booting worker with pid: 100\n",
      "SPARK_HOME not set. Skipping PySpark Initialization.\n",
      "Generating new fontManager, this may take some time...\n",
      "Initializing logger\n",
      "2021-01-04 16:26:25,258 | root | INFO | Starting up app insights client\n",
      "Starting up app insights client\n",
      "2021-01-04 16:26:25,259 | root | INFO | Starting up request id generator\n",
      "Starting up request id generator\n",
      "2021-01-04 16:26:25,260 | root | INFO | Starting up app insight hooks\n",
      "Starting up app insight hooks\n",
      "2021-01-04 16:26:25,261 | root | INFO | Invoking user's init function\n",
      "Invoking user's init function\n",
      "2021-01-04 16:26:36,263 | root | INFO | Users's init has completed successfully\n",
      "Users's init has completed successfully\n",
      "2021-01-04 16:26:36,273 | root | INFO | Skipping middleware: dbg_model_info as it's not enabled.\n",
      "Skipping middleware: dbg_model_info as it's not enabled.\n",
      "2021-01-04 16:26:36,273 | root | INFO | Skipping middleware: dbg_resource_usage as it's not enabled.\n",
      "Skipping middleware: dbg_resource_usage as it's not enabled.\n",
      "2021-01-04 16:26:36,275 | root | INFO | Scoring timeout is found from os.environ: 60000 ms\n",
      "Scoring timeout is found from os.environ: 60000 ms\n",
      "2021-01-04 16:26:36,302 | root | INFO | 200\n",
      "200\n",
      "127.0.0.1 - - [04/Jan/2021:16:26:36 +0000] \"GET /swagger.json HTTP/1.0\" 200 2921 \"-\" \"Go-http-client/1.1\"\n",
      "2021-01-04 16:26:40,685 | root | INFO | 200\n",
      "200\n",
      "127.0.0.1 - - [04/Jan/2021:16:26:40 +0000] \"GET /swagger.json HTTP/1.0\" 200 2921 \"-\" \"Go-http-client/1.1\"\n",
      "2021-01-04 16:35:00,871 | root | INFO | 200\n",
      "200\n",
      "127.0.0.1 - - [04/Jan/2021:16:35:00 +0000] \"GET /swagger.json HTTP/1.0\" 200 2921 \"-\" \"Go-http-client/1.1\"\n",
      "2021-01-04 16:35:01,315 | root | INFO | 200\n",
      "200\n",
      "127.0.0.1 - - [04/Jan/2021:16:35:01 +0000] \"GET /swagger.json HTTP/1.0\" 200 2921 \"-\" \"Go-http-client/1.1\"\n",
      "127.0.0.1 - - [04/Jan/2021:16:37:06 +0000] \"GET /.env HTTP/1.0\" 404 232 \"-\" \"Mozilla/5.0 (X11; Linux x86_64) AppleWebKit/537.36 (KHTML, like Gecko) Chrome/81.0.4044.129 Safari/537.36\"\n",
      "127.0.0.1 - - [04/Jan/2021:16:37:06 +0000] \"POST / HTTP/1.0\" 405 178 \"-\" \"Mozilla/5.0 (X11; Linux x86_64) AppleWebKit/537.36 (KHTML, like Gecko) Chrome/81.0.4044.129 Safari/537.36\"\n",
      "2021-01-04 16:42:05,136 | root | INFO | Validation Request Content-Type\n",
      "Validation Request Content-Type\n",
      "2021-01-04 16:42:05,139 | root | INFO | \tHost: localhost:5001\n",
      "\tHost: localhost:5001\n",
      "2021-01-04 16:42:05,139 | root | INFO | \tX-Real-Ip: 127.0.0.1\n",
      "\tX-Real-Ip: 127.0.0.1\n",
      "2021-01-04 16:42:05,140 | root | INFO | \tX-Forwarded-For: 127.0.0.1\n",
      "\tX-Forwarded-For: 127.0.0.1\n",
      "2021-01-04 16:42:05,140 | root | INFO | \tX-Forwarded-Proto: http\n",
      "\tX-Forwarded-Proto: http\n",
      "2021-01-04 16:42:05,141 | root | INFO | \tConnection: close\n",
      "\tConnection: close\n",
      "2021-01-04 16:42:05,142 | root | INFO | \tContent-Length: 371\n",
      "\tContent-Length: 371\n",
      "2021-01-04 16:42:05,143 | root | INFO | \tUser-Agent: python-requests/2.25.1\n",
      "\tUser-Agent: python-requests/2.25.1\n",
      "2021-01-04 16:42:05,143 | root | INFO | \tAccept: */*\n",
      "\tAccept: */*\n",
      "2021-01-04 16:42:05,144 | root | INFO | \tAccept-Encoding: gzip, deflate\n",
      "\tAccept-Encoding: gzip, deflate\n",
      "2021-01-04 16:42:05,145 | root | INFO | \tContent-Type: application/json\n",
      "\tContent-Type: application/json\n",
      "2021-01-04 16:42:05,145 | root | INFO | \tX-Ms-Request-Id: 5141510e-7cba-424d-be06-ccf84f7027ef\n",
      "\tX-Ms-Request-Id: 5141510e-7cba-424d-be06-ccf84f7027ef\n",
      "2021-01-04 16:42:05,146 | root | INFO | Scoring Timer is set to 60.0 seconds\n",
      "Scoring Timer is set to 60.0 seconds\n",
      "2021-01-04 16:42:05,356 | root | INFO | 200\n",
      "200\n",
      "127.0.0.1 - - [04/Jan/2021:16:42:05 +0000] \"POST /score HTTP/1.0\" 200 21 \"-\" \"python-requests/2.25.1\"\n",
      "\n"
     ]
    }
   ],
   "source": [
    "print(service.get_logs())"
   ]
  },
  {
   "cell_type": "code",
   "execution_count": 14,
   "metadata": {},
   "outputs": [],
   "source": [
    "service.delete()\n",
    "model.delete()"
   ]
  },
  {
   "cell_type": "code",
   "execution_count": null,
   "metadata": {},
   "outputs": [],
   "source": []
  }
 ],
 "metadata": {
  "kernel_info": {
   "name": "python3-azureml"
  },
  "kernelspec": {
   "display_name": "Python 3",
   "language": "python",
   "name": "python3"
  },
  "language_info": {
   "codemirror_mode": {
    "name": "ipython",
    "version": 3
   },
   "file_extension": ".py",
   "mimetype": "text/x-python",
   "name": "python",
   "nbconvert_exporter": "python",
   "pygments_lexer": "ipython3",
   "version": "3.6.12"
  },
  "nteract": {
   "version": "nteract-front-end@1.0.0"
  }
 },
 "nbformat": 4,
 "nbformat_minor": 2
}